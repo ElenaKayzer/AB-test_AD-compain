{
 "cells": [
  {
   "cell_type": "markdown",
   "metadata": {},
   "source": [
    "# МАРКЕТИНГОВЫЕ МЕРОПРИЯТИЯ"
   ]
  },
  {
   "cell_type": "markdown",
   "metadata": {},
   "source": [
    "\n",
    "### Заказчик: крупный интеренет-магазин\n",
    "### Цель: увеличение выручки\n",
    "\n",
    "### Ход исследования:\n",
    "1. Подготовка гипотиз и их приоритизация по методам ICE, RICE\n",
    "2. Проведение А/В теста и проверка результатов по параметрам:\n",
    "-  кумулятивная выручка по группам\n",
    "-  кумулятивный средний чек по группам\n",
    "-  относительное изменение кумулятивного среднего чека группы B к группе A\n",
    "-  кумулятивное среднее количество заказов на посетителя по группам\n",
    "-  относительное изменение кумулятивного среднего количества заказов на посетителя группы B к группе A\n",
    "-  95-й и 99-й перцентили количества заказов на пользователя\n",
    "-  95-й и 99-й перцентили стоимости заказов\n",
    "-  cтатистическая значимость различий в среднем количестве заказов на посетителя между группами по «сырым» данным\n",
    "-  статистическая значимость различий в среднем чеке заказа между группами по «сырым» данным\n",
    "-  статистическая значимость различий в среднем количестве заказов на посетителя между группами по «очищенным» данным\n",
    "-  статистическая значимость различий в среднем чеке заказа между группами по «очищенным» данным\n",
    "\n",
    "### Выводы и рекомендации"
   ]
  },
  {
   "cell_type": "markdown",
   "metadata": {},
   "source": [
    "**Изучение данных**"
   ]
  },
  {
   "cell_type": "code",
   "execution_count": 1,
   "metadata": {},
   "outputs": [],
   "source": [
    "import pandas as pd\n",
    "import datetime as dt\n",
    "import numpy as np\n",
    "import scipy.stats as stats"
   ]
  },
  {
   "cell_type": "code",
   "execution_count": 2,
   "metadata": {},
   "outputs": [
    {
     "data": {
      "text/html": [
       "<div>\n",
       "<style scoped>\n",
       "    .dataframe tbody tr th:only-of-type {\n",
       "        vertical-align: middle;\n",
       "    }\n",
       "\n",
       "    .dataframe tbody tr th {\n",
       "        vertical-align: top;\n",
       "    }\n",
       "\n",
       "    .dataframe thead th {\n",
       "        text-align: right;\n",
       "    }\n",
       "</style>\n",
       "<table border=\"1\" class=\"dataframe\">\n",
       "  <thead>\n",
       "    <tr style=\"text-align: right;\">\n",
       "      <th></th>\n",
       "      <th>Hypothesis</th>\n",
       "      <th>Reach</th>\n",
       "      <th>Impact</th>\n",
       "      <th>Confidence</th>\n",
       "      <th>Efforts</th>\n",
       "    </tr>\n",
       "  </thead>\n",
       "  <tbody>\n",
       "    <tr>\n",
       "      <th>0</th>\n",
       "      <td>Добавить два новых канала привлечения трафика,...</td>\n",
       "      <td>3</td>\n",
       "      <td>10</td>\n",
       "      <td>8</td>\n",
       "      <td>6</td>\n",
       "    </tr>\n",
       "    <tr>\n",
       "      <th>1</th>\n",
       "      <td>Запустить собственную службу доставки, что сок...</td>\n",
       "      <td>2</td>\n",
       "      <td>5</td>\n",
       "      <td>4</td>\n",
       "      <td>10</td>\n",
       "    </tr>\n",
       "    <tr>\n",
       "      <th>2</th>\n",
       "      <td>Добавить блоки рекомендаций товаров на сайт ин...</td>\n",
       "      <td>8</td>\n",
       "      <td>3</td>\n",
       "      <td>7</td>\n",
       "      <td>3</td>\n",
       "    </tr>\n",
       "    <tr>\n",
       "      <th>3</th>\n",
       "      <td>Изменить структура категорий, что увеличит кон...</td>\n",
       "      <td>8</td>\n",
       "      <td>3</td>\n",
       "      <td>3</td>\n",
       "      <td>8</td>\n",
       "    </tr>\n",
       "    <tr>\n",
       "      <th>4</th>\n",
       "      <td>Изменить цвет фона главной страницы, чтобы уве...</td>\n",
       "      <td>3</td>\n",
       "      <td>1</td>\n",
       "      <td>1</td>\n",
       "      <td>1</td>\n",
       "    </tr>\n",
       "    <tr>\n",
       "      <th>5</th>\n",
       "      <td>Добавить страницу отзывов клиентов о магазине,...</td>\n",
       "      <td>3</td>\n",
       "      <td>2</td>\n",
       "      <td>2</td>\n",
       "      <td>3</td>\n",
       "    </tr>\n",
       "    <tr>\n",
       "      <th>6</th>\n",
       "      <td>Показать на главной странице баннеры с актуаль...</td>\n",
       "      <td>5</td>\n",
       "      <td>3</td>\n",
       "      <td>8</td>\n",
       "      <td>3</td>\n",
       "    </tr>\n",
       "    <tr>\n",
       "      <th>7</th>\n",
       "      <td>Добавить форму подписки на все основные страни...</td>\n",
       "      <td>10</td>\n",
       "      <td>7</td>\n",
       "      <td>8</td>\n",
       "      <td>5</td>\n",
       "    </tr>\n",
       "    <tr>\n",
       "      <th>8</th>\n",
       "      <td>Запустить акцию, дающую скидку на товар в день...</td>\n",
       "      <td>1</td>\n",
       "      <td>9</td>\n",
       "      <td>9</td>\n",
       "      <td>5</td>\n",
       "    </tr>\n",
       "  </tbody>\n",
       "</table>\n",
       "</div>"
      ],
      "text/plain": [
       "                                          Hypothesis  Reach  Impact  \\\n",
       "0  Добавить два новых канала привлечения трафика,...      3      10   \n",
       "1  Запустить собственную службу доставки, что сок...      2       5   \n",
       "2  Добавить блоки рекомендаций товаров на сайт ин...      8       3   \n",
       "3  Изменить структура категорий, что увеличит кон...      8       3   \n",
       "4  Изменить цвет фона главной страницы, чтобы уве...      3       1   \n",
       "5  Добавить страницу отзывов клиентов о магазине,...      3       2   \n",
       "6  Показать на главной странице баннеры с актуаль...      5       3   \n",
       "7  Добавить форму подписки на все основные страни...     10       7   \n",
       "8  Запустить акцию, дающую скидку на товар в день...      1       9   \n",
       "\n",
       "   Confidence  Efforts  \n",
       "0           8        6  \n",
       "1           4       10  \n",
       "2           7        3  \n",
       "3           3        8  \n",
       "4           1        1  \n",
       "5           2        3  \n",
       "6           8        3  \n",
       "7           8        5  \n",
       "8           9        5  "
      ]
     },
     "metadata": {},
     "output_type": "display_data"
    }
   ],
   "source": [
    "data= pd.read_csv('/datasets/hypothesis.csv', sep=',')\n",
    "display(data)"
   ]
  },
  {
   "cell_type": "markdown",
   "metadata": {},
   "source": [
    "**Приоритизация гипотез**"
   ]
  },
  {
   "cell_type": "markdown",
   "metadata": {},
   "source": [
    "**Метод ICE**"
   ]
  },
  {
   "cell_type": "code",
   "execution_count": 3,
   "metadata": {},
   "outputs": [
    {
     "name": "stdout",
     "output_type": "stream",
     "text": [
      "8    16.200000\n",
      "0    13.333333\n",
      "7    11.200000\n",
      "6     8.000000\n",
      "2     7.000000\n",
      "1     2.000000\n",
      "5     1.333333\n",
      "3     1.125000\n",
      "4     1.000000\n",
      "dtype: float64\n"
     ]
    }
   ],
   "source": [
    "ICE=(data['Impact']*data['Confidence'])/data['Efforts']\n",
    "print(ICE.sort_values(ascending=False))"
   ]
  },
  {
   "cell_type": "markdown",
   "metadata": {},
   "source": [
    "**Метод RICE**"
   ]
  },
  {
   "cell_type": "code",
   "execution_count": 4,
   "metadata": {},
   "outputs": [
    {
     "name": "stdout",
     "output_type": "stream",
     "text": [
      "7    112.0\n",
      "2     56.0\n",
      "0     40.0\n",
      "6     40.0\n",
      "8     16.2\n",
      "3      9.0\n",
      "1      4.0\n",
      "5      4.0\n",
      "4      3.0\n",
      "dtype: float64\n"
     ]
    }
   ],
   "source": [
    "RICE=(data['Reach']*data['Impact']*data['Confidence'])/data['Efforts']\n",
    "print(RICE.sort_values(ascending=False))"
   ]
  },
  {
   "cell_type": "markdown",
   "metadata": {},
   "source": [
    "**Вывод**\n",
    "```\n",
    "Приоритизация гипотез была провведена двумя методами со следующими результатами: \n",
    "- ICE, ТОП-3 гипотизы №8, №0, №7\n",
    "- RICE ТОП-3 гипотизы №7,2,0, при этом гипотиза №8 оказалась на 5-м месте\n",
    "\n",
    "Различие приотитетов возникло из-за параметра Reach (охвата).\n",
    "У гипотиз №0, №7, №8 высокие значения параметров Impact и Confidence (от 7 до 10 баллов)  при среднем значении Efforts (от 5 до 5 баллов)\n",
    "А вот параметр Reach у гипотезы №0 и №8 очень низкий и составляет 3 и 1 балл соответственно, в то время как у гипотизы №7 Reach равен 10. Таким образом по методу RICE гипотеза №7 получила наивысший приоритет.\n",
    "```"
   ]
  },
  {
   "cell_type": "markdown",
   "metadata": {},
   "source": [
    "**Анализ А/В теста**"
   ]
  },
  {
   "cell_type": "code",
   "execution_count": 5,
   "metadata": {},
   "outputs": [
    {
     "data": {
      "text/html": [
       "<div>\n",
       "<style scoped>\n",
       "    .dataframe tbody tr th:only-of-type {\n",
       "        vertical-align: middle;\n",
       "    }\n",
       "\n",
       "    .dataframe tbody tr th {\n",
       "        vertical-align: top;\n",
       "    }\n",
       "\n",
       "    .dataframe thead th {\n",
       "        text-align: right;\n",
       "    }\n",
       "</style>\n",
       "<table border=\"1\" class=\"dataframe\">\n",
       "  <thead>\n",
       "    <tr style=\"text-align: right;\">\n",
       "      <th></th>\n",
       "      <th>transactionId</th>\n",
       "      <th>visitorId</th>\n",
       "      <th>date</th>\n",
       "      <th>revenue</th>\n",
       "      <th>group</th>\n",
       "    </tr>\n",
       "  </thead>\n",
       "  <tbody>\n",
       "    <tr>\n",
       "      <th>0</th>\n",
       "      <td>3667963787</td>\n",
       "      <td>3312258926</td>\n",
       "      <td>2019-08-15</td>\n",
       "      <td>1650</td>\n",
       "      <td>B</td>\n",
       "    </tr>\n",
       "    <tr>\n",
       "      <th>1</th>\n",
       "      <td>2804400009</td>\n",
       "      <td>3642806036</td>\n",
       "      <td>2019-08-15</td>\n",
       "      <td>730</td>\n",
       "      <td>B</td>\n",
       "    </tr>\n",
       "    <tr>\n",
       "      <th>2</th>\n",
       "      <td>2961555356</td>\n",
       "      <td>4069496402</td>\n",
       "      <td>2019-08-15</td>\n",
       "      <td>400</td>\n",
       "      <td>A</td>\n",
       "    </tr>\n",
       "    <tr>\n",
       "      <th>3</th>\n",
       "      <td>3797467345</td>\n",
       "      <td>1196621759</td>\n",
       "      <td>2019-08-15</td>\n",
       "      <td>9759</td>\n",
       "      <td>B</td>\n",
       "    </tr>\n",
       "    <tr>\n",
       "      <th>4</th>\n",
       "      <td>2282983706</td>\n",
       "      <td>2322279887</td>\n",
       "      <td>2019-08-15</td>\n",
       "      <td>2308</td>\n",
       "      <td>B</td>\n",
       "    </tr>\n",
       "  </tbody>\n",
       "</table>\n",
       "</div>"
      ],
      "text/plain": [
       "   transactionId   visitorId        date  revenue group\n",
       "0     3667963787  3312258926  2019-08-15     1650     B\n",
       "1     2804400009  3642806036  2019-08-15      730     B\n",
       "2     2961555356  4069496402  2019-08-15      400     A\n",
       "3     3797467345  1196621759  2019-08-15     9759     B\n",
       "4     2282983706  2322279887  2019-08-15     2308     B"
      ]
     },
     "metadata": {},
     "output_type": "display_data"
    },
    {
     "data": {
      "text/html": [
       "<div>\n",
       "<style scoped>\n",
       "    .dataframe tbody tr th:only-of-type {\n",
       "        vertical-align: middle;\n",
       "    }\n",
       "\n",
       "    .dataframe tbody tr th {\n",
       "        vertical-align: top;\n",
       "    }\n",
       "\n",
       "    .dataframe thead th {\n",
       "        text-align: right;\n",
       "    }\n",
       "</style>\n",
       "<table border=\"1\" class=\"dataframe\">\n",
       "  <thead>\n",
       "    <tr style=\"text-align: right;\">\n",
       "      <th></th>\n",
       "      <th>date</th>\n",
       "      <th>group</th>\n",
       "      <th>visitors</th>\n",
       "    </tr>\n",
       "  </thead>\n",
       "  <tbody>\n",
       "    <tr>\n",
       "      <th>0</th>\n",
       "      <td>2019-08-01</td>\n",
       "      <td>A</td>\n",
       "      <td>719</td>\n",
       "    </tr>\n",
       "    <tr>\n",
       "      <th>1</th>\n",
       "      <td>2019-08-02</td>\n",
       "      <td>A</td>\n",
       "      <td>619</td>\n",
       "    </tr>\n",
       "    <tr>\n",
       "      <th>2</th>\n",
       "      <td>2019-08-03</td>\n",
       "      <td>A</td>\n",
       "      <td>507</td>\n",
       "    </tr>\n",
       "    <tr>\n",
       "      <th>3</th>\n",
       "      <td>2019-08-04</td>\n",
       "      <td>A</td>\n",
       "      <td>717</td>\n",
       "    </tr>\n",
       "    <tr>\n",
       "      <th>4</th>\n",
       "      <td>2019-08-05</td>\n",
       "      <td>A</td>\n",
       "      <td>756</td>\n",
       "    </tr>\n",
       "  </tbody>\n",
       "</table>\n",
       "</div>"
      ],
      "text/plain": [
       "         date group  visitors\n",
       "0  2019-08-01     A       719\n",
       "1  2019-08-02     A       619\n",
       "2  2019-08-03     A       507\n",
       "3  2019-08-04     A       717\n",
       "4  2019-08-05     A       756"
      ]
     },
     "metadata": {},
     "output_type": "display_data"
    },
    {
     "name": "stdout",
     "output_type": "stream",
     "text": [
      "<class 'pandas.core.frame.DataFrame'>\n",
      "RangeIndex: 1197 entries, 0 to 1196\n",
      "Data columns (total 5 columns):\n",
      " #   Column         Non-Null Count  Dtype \n",
      "---  ------         --------------  ----- \n",
      " 0   transactionId  1197 non-null   int64 \n",
      " 1   visitorId      1197 non-null   int64 \n",
      " 2   date           1197 non-null   object\n",
      " 3   revenue        1197 non-null   int64 \n",
      " 4   group          1197 non-null   object\n",
      "dtypes: int64(3), object(2)\n",
      "memory usage: 46.9+ KB\n",
      "<class 'pandas.core.frame.DataFrame'>\n",
      "RangeIndex: 62 entries, 0 to 61\n",
      "Data columns (total 3 columns):\n",
      " #   Column    Non-Null Count  Dtype \n",
      "---  ------    --------------  ----- \n",
      " 0   date      62 non-null     object\n",
      " 1   group     62 non-null     object\n",
      " 2   visitors  62 non-null     int64 \n",
      "dtypes: int64(1), object(2)\n",
      "memory usage: 1.6+ KB\n"
     ]
    }
   ],
   "source": [
    "orders= pd.read_csv('/datasets/orders.csv', sep=',') \n",
    "visitors= pd.read_csv('/datasets/visitors.csv', sep=',')\n",
    "display(orders.head())\n",
    "display(visitors.head())\n",
    "orders.info()\n",
    "visitors.info()"
   ]
  },
  {
   "cell_type": "code",
   "execution_count": 6,
   "metadata": {},
   "outputs": [
    {
     "name": "stdout",
     "output_type": "stream",
     "text": [
      "<class 'pandas.core.frame.DataFrame'>\n",
      "RangeIndex: 1197 entries, 0 to 1196\n",
      "Data columns (total 5 columns):\n",
      " #   Column         Non-Null Count  Dtype         \n",
      "---  ------         --------------  -----         \n",
      " 0   transactionId  1197 non-null   int64         \n",
      " 1   visitorId      1197 non-null   int64         \n",
      " 2   date           1197 non-null   datetime64[ns]\n",
      " 3   revenue        1197 non-null   int64         \n",
      " 4   group          1197 non-null   object        \n",
      "dtypes: datetime64[ns](1), int64(3), object(1)\n",
      "memory usage: 46.9+ KB\n",
      "<class 'pandas.core.frame.DataFrame'>\n",
      "RangeIndex: 62 entries, 0 to 61\n",
      "Data columns (total 3 columns):\n",
      " #   Column    Non-Null Count  Dtype         \n",
      "---  ------    --------------  -----         \n",
      " 0   date      62 non-null     datetime64[ns]\n",
      " 1   group     62 non-null     object        \n",
      " 2   visitors  62 non-null     int64         \n",
      "dtypes: datetime64[ns](1), int64(1), object(1)\n",
      "memory usage: 1.6+ KB\n"
     ]
    }
   ],
   "source": [
    "# Тип данных в колонках date переведем в datetime\n",
    "\n",
    "orders['date'] = orders['date'] = pd.to_datetime(orders['date'])\n",
    "visitors['date'] = visitors['date'].map(lambda x: dt.datetime.strptime(x, '%Y-%m-%d'))\n",
    "\n",
    "#проверим тип данных после замены\n",
    "orders.info()\n",
    "visitors.info()"
   ]
  },
  {
   "cell_type": "markdown",
   "metadata": {},
   "source": [
    "<b>Предподготовка данных</b>\n"
   ]
  },
  {
   "cell_type": "code",
   "execution_count": 7,
   "metadata": {},
   "outputs": [
    {
     "data": {
      "text/plain": [
       "0"
      ]
     },
     "execution_count": 7,
     "metadata": {},
     "output_type": "execute_result"
    }
   ],
   "source": [
    "# проверка на дубликаты в таблице заказов.\n",
    "# один посетитель может следать 2 заказа и даже в 1 день, это не является дублем.\n",
    "# но дублями будут считаться повторные номера в transactionId\n",
    "\n",
    "orders['transactionId'].duplicated().sum()\n"
   ]
  },
  {
   "cell_type": "code",
   "execution_count": 8,
   "metadata": {},
   "outputs": [
    {
     "data": {
      "text/plain": [
       "0"
      ]
     },
     "execution_count": 8,
     "metadata": {},
     "output_type": "execute_result"
    }
   ],
   "source": [
    "# проверим есть ли полные дубли строк\n",
    "orders.duplicated().sum()"
   ]
  },
  {
   "cell_type": "code",
   "execution_count": 9,
   "metadata": {},
   "outputs": [],
   "source": [
    "# также проверим пересекаются ли группы А и В по visitorId "
   ]
  },
  {
   "cell_type": "code",
   "execution_count": 10,
   "metadata": {},
   "outputs": [
    {
     "data": {
      "text/html": [
       "<div>\n",
       "<style scoped>\n",
       "    .dataframe tbody tr th:only-of-type {\n",
       "        vertical-align: middle;\n",
       "    }\n",
       "\n",
       "    .dataframe tbody tr th {\n",
       "        vertical-align: top;\n",
       "    }\n",
       "\n",
       "    .dataframe thead th {\n",
       "        text-align: right;\n",
       "    }\n",
       "</style>\n",
       "<table border=\"1\" class=\"dataframe\">\n",
       "  <thead>\n",
       "    <tr style=\"text-align: right;\">\n",
       "      <th></th>\n",
       "      <th>visitorId</th>\n",
       "      <th>group_x</th>\n",
       "      <th>date_x</th>\n",
       "      <th>group_y</th>\n",
       "      <th>date_y</th>\n",
       "    </tr>\n",
       "  </thead>\n",
       "  <tbody>\n",
       "    <tr>\n",
       "      <th>0</th>\n",
       "      <td>4256040402</td>\n",
       "      <td>A</td>\n",
       "      <td>2019-08-01</td>\n",
       "      <td>B</td>\n",
       "      <td>2019-08-08</td>\n",
       "    </tr>\n",
       "    <tr>\n",
       "      <th>1</th>\n",
       "      <td>4256040402</td>\n",
       "      <td>A</td>\n",
       "      <td>2019-08-01</td>\n",
       "      <td>B</td>\n",
       "      <td>2019-08-16</td>\n",
       "    </tr>\n",
       "    <tr>\n",
       "      <th>2</th>\n",
       "      <td>4256040402</td>\n",
       "      <td>A</td>\n",
       "      <td>2019-08-01</td>\n",
       "      <td>B</td>\n",
       "      <td>2019-08-18</td>\n",
       "    </tr>\n",
       "    <tr>\n",
       "      <th>3</th>\n",
       "      <td>4256040402</td>\n",
       "      <td>A</td>\n",
       "      <td>2019-08-01</td>\n",
       "      <td>B</td>\n",
       "      <td>2019-08-31</td>\n",
       "    </tr>\n",
       "    <tr>\n",
       "      <th>4</th>\n",
       "      <td>4256040402</td>\n",
       "      <td>A</td>\n",
       "      <td>2019-08-12</td>\n",
       "      <td>B</td>\n",
       "      <td>2019-08-08</td>\n",
       "    </tr>\n",
       "    <tr>\n",
       "      <th>...</th>\n",
       "      <td>...</td>\n",
       "      <td>...</td>\n",
       "      <td>...</td>\n",
       "      <td>...</td>\n",
       "      <td>...</td>\n",
       "    </tr>\n",
       "    <tr>\n",
       "      <th>178</th>\n",
       "      <td>4120364173</td>\n",
       "      <td>A</td>\n",
       "      <td>2019-08-29</td>\n",
       "      <td>B</td>\n",
       "      <td>2019-08-31</td>\n",
       "    </tr>\n",
       "    <tr>\n",
       "      <th>179</th>\n",
       "      <td>477780734</td>\n",
       "      <td>A</td>\n",
       "      <td>2019-08-30</td>\n",
       "      <td>B</td>\n",
       "      <td>2019-08-30</td>\n",
       "    </tr>\n",
       "    <tr>\n",
       "      <th>180</th>\n",
       "      <td>3766097110</td>\n",
       "      <td>A</td>\n",
       "      <td>2019-08-30</td>\n",
       "      <td>B</td>\n",
       "      <td>2019-08-30</td>\n",
       "    </tr>\n",
       "    <tr>\n",
       "      <th>181</th>\n",
       "      <td>2600415354</td>\n",
       "      <td>A</td>\n",
       "      <td>2019-08-31</td>\n",
       "      <td>B</td>\n",
       "      <td>2019-08-06</td>\n",
       "    </tr>\n",
       "    <tr>\n",
       "      <th>182</th>\n",
       "      <td>232979603</td>\n",
       "      <td>A</td>\n",
       "      <td>2019-08-31</td>\n",
       "      <td>B</td>\n",
       "      <td>2019-08-31</td>\n",
       "    </tr>\n",
       "  </tbody>\n",
       "</table>\n",
       "<p>183 rows × 5 columns</p>\n",
       "</div>"
      ],
      "text/plain": [
       "      visitorId group_x     date_x group_y     date_y\n",
       "0    4256040402       A 2019-08-01       B 2019-08-08\n",
       "1    4256040402       A 2019-08-01       B 2019-08-16\n",
       "2    4256040402       A 2019-08-01       B 2019-08-18\n",
       "3    4256040402       A 2019-08-01       B 2019-08-31\n",
       "4    4256040402       A 2019-08-12       B 2019-08-08\n",
       "..          ...     ...        ...     ...        ...\n",
       "178  4120364173       A 2019-08-29       B 2019-08-31\n",
       "179   477780734       A 2019-08-30       B 2019-08-30\n",
       "180  3766097110       A 2019-08-30       B 2019-08-30\n",
       "181  2600415354       A 2019-08-31       B 2019-08-06\n",
       "182   232979603       A 2019-08-31       B 2019-08-31\n",
       "\n",
       "[183 rows x 5 columns]"
      ]
     },
     "metadata": {},
     "output_type": "display_data"
    },
    {
     "name": "stdout",
     "output_type": "stream",
     "text": [
      "Количество уникальных посетителей, которые одновременно присуствуют в группе А и В: 58\n",
      "Количество уникальных посетителей всего в тесте: 1031\n",
      "Доля уникальных пользователей,  которые одновременно присуствуют в группе А и В : 0.05625606207565471\n"
     ]
    }
   ],
   "source": [
    "orders=orders.sort_values(by='date')\n",
    "\n",
    "orders_groups = orders[['visitorId', 'group', 'date']]\n",
    "\n",
    "orders_A=orders_groups[orders_groups['group'] == 'A']\n",
    "\n",
    "orders_B = orders_groups[orders_groups['group'] == 'B']\n",
    "                     \n",
    "A_B_users=orders_A.merge(orders_B, on='visitorId', how='inner')\n",
    "\n",
    "display(A_B_users)\n",
    "print('Количество уникальных посетителей, которые одновременно присуствуют в группе А и В:', A_B_users['visitorId'].nunique())\n",
    "print('Количество уникальных посетителей всего в тесте:', orders['visitorId'].nunique())\n",
    "print('Доля уникальных пользователей,  которые одновременно присуствуют в группе А и В :', A_B_users['visitorId'].nunique()/orders['visitorId'].nunique())"
   ]
  },
  {
   "cell_type": "markdown",
   "metadata": {},
   "source": [
    "\n",
    "Обнаружили 183 (15%) наблюдения из 1197, по которым 58 (5,6%) из 1031 пользователей попали в обе группы тестирования.\n",
    "15% - это значительная часть выборки, но она лишена чистоты эксперимента, то есть не очевидно пользователь в какую группу должен был попасть изначально. При этом есть варианты, когда один и тот же посетитель попал в обе группы в один день и сделал заказ.\n",
    "В связи с этим считаю целесообразным очистить датасет от некорректных данных (их не возможно интерпритировать), при этом это 5,6% от уникального числа пользователей.\n"
   ]
  },
  {
   "cell_type": "code",
   "execution_count": 11,
   "metadata": {},
   "outputs": [
    {
     "data": {
      "text/plain": [
       "array([4256040402, 2716752286, 2038680547, 3891541246, 3984495233,\n",
       "       2458001652,  471551937, 1801183820,  351125977, 1333886533,\n",
       "          8300375, 2587333274, 1602967004, 1294878855, 1230306981,\n",
       "       3972127743, 2378935119, 1404934699,  199603092,  276558944,\n",
       "        237748145, 3062433592, 1614305549,  963407295, 3963646447,\n",
       "       4186807279, 2949041841, 2654030115, 2712142231, 3803269165,\n",
       "       4069496402, 2954449915, 2579882178, 3957174400, 1648269707,\n",
       "       3234906277,  393266494, 3717692402, 3941795274, 1738359350,\n",
       "        457167155, 2686716486, 3656415546, 2927087541, 3202540741,\n",
       "       2044997962, 1959144690, 1316129916, 1668030113, 2780786433,\n",
       "        818047933, 3951559397, 4266935830, 4120364173,  477780734,\n",
       "       3766097110, 2600415354,  232979603])"
      ]
     },
     "execution_count": 11,
     "metadata": {},
     "output_type": "execute_result"
    }
   ],
   "source": [
    "# создадим список уникаьных visitorId и удалим их из таблицы orders\n",
    "\n",
    "A_B_users['visitorId'].unique()"
   ]
  },
  {
   "cell_type": "code",
   "execution_count": 12,
   "metadata": {},
   "outputs": [],
   "source": [
    "list=[4256040402, 2716752286, 3984495233, 3891541246, 2038680547,\n",
    "       2458001652,  471551937, 1801183820, 1333886533,  351125977,\n",
    "          8300375, 2587333274, 1602967004, 1294878855, 1230306981,\n",
    "       3972127743, 2378935119, 1404934699, 3062433592,  199603092,\n",
    "        237748145,  276558944, 3963646447, 1614305549, 2712142231,\n",
    "        963407295, 4186807279, 2654030115, 2949041841, 4069496402,\n",
    "       3803269165, 2954449915, 3234906277, 1648269707, 3957174400,\n",
    "       2579882178,  393266494, 3941795274, 3717692402, 1738359350,\n",
    "       2927087541, 3656415546,  457167155, 2686716486, 2044997962,\n",
    "       3202540741, 1959144690, 1668030113, 1316129916,  818047933,\n",
    "       2780786433, 4120364173, 3951559397, 4266935830, 3766097110,\n",
    "        477780734, 2600415354,  232979603]\n"
   ]
  },
  {
   "cell_type": "code",
   "execution_count": 13,
   "metadata": {},
   "outputs": [
    {
     "name": "stdout",
     "output_type": "stream",
     "text": [
      "<class 'pandas.core.frame.DataFrame'>\n",
      "Int64Index: 1016 entries, 168 to 959\n",
      "Data columns (total 5 columns):\n",
      " #   Column         Non-Null Count  Dtype         \n",
      "---  ------         --------------  -----         \n",
      " 0   transactionId  1016 non-null   int64         \n",
      " 1   visitorId      1016 non-null   int64         \n",
      " 2   date           1016 non-null   datetime64[ns]\n",
      " 3   revenue        1016 non-null   int64         \n",
      " 4   group          1016 non-null   object        \n",
      "dtypes: datetime64[ns](1), int64(3), object(1)\n",
      "memory usage: 47.6+ KB\n"
     ]
    }
   ],
   "source": [
    "orders = orders.query('visitorId not in @list')\n",
    "orders.info()"
   ]
  },
  {
   "cell_type": "markdown",
   "metadata": {},
   "source": [
    "\n",
    "Проверка дублей в таблице "
   ]
  },
  {
   "cell_type": "code",
   "execution_count": 14,
   "metadata": {},
   "outputs": [
    {
     "data": {
      "text/plain": [
       "0"
      ]
     },
     "execution_count": 14,
     "metadata": {},
     "output_type": "execute_result"
    }
   ],
   "source": [
    "# в данной таблице будет странно, если выявится 100% или дубль по колонкам: дата, группа.\n",
    "visitors.duplicated().sum()\n"
   ]
  },
  {
   "cell_type": "code",
   "execution_count": 15,
   "metadata": {},
   "outputs": [
    {
     "data": {
      "text/html": [
       "<div>\n",
       "<style scoped>\n",
       "    .dataframe tbody tr th:only-of-type {\n",
       "        vertical-align: middle;\n",
       "    }\n",
       "\n",
       "    .dataframe tbody tr th {\n",
       "        vertical-align: top;\n",
       "    }\n",
       "\n",
       "    .dataframe thead th {\n",
       "        text-align: right;\n",
       "    }\n",
       "</style>\n",
       "<table border=\"1\" class=\"dataframe\">\n",
       "  <thead>\n",
       "    <tr style=\"text-align: right;\">\n",
       "      <th></th>\n",
       "      <th>date</th>\n",
       "      <th>group</th>\n",
       "      <th>visitors</th>\n",
       "    </tr>\n",
       "  </thead>\n",
       "  <tbody>\n",
       "  </tbody>\n",
       "</table>\n",
       "</div>"
      ],
      "text/plain": [
       "Empty DataFrame\n",
       "Columns: [date, group, visitors]\n",
       "Index: []"
      ]
     },
     "execution_count": 15,
     "metadata": {},
     "output_type": "execute_result"
    }
   ],
   "source": [
    "visitors[visitors.duplicated(subset=['group', 'date'], keep=False)]"
   ]
  },
  {
   "cell_type": "markdown",
   "metadata": {},
   "source": [
    "<b>Вывод:</b>\n",
    "в таблицах orders и visitors дубли не обнаружены.\n",
    "Но в таблице заказов были выявлены 183 (15%) наблюдения из 1197, по которым 58 (5,6%) из 1031  пользователей попали в обе группы. Такие пользователи были исключены из общей таблицы\n",
    "</div>"
   ]
  },
  {
   "cell_type": "markdown",
   "metadata": {},
   "source": [
    "**Постройте график кумулятивной выручки по группам. Сделайте выводы и предположения.**"
   ]
  },
  {
   "cell_type": "code",
   "execution_count": 16,
   "metadata": {},
   "outputs": [
    {
     "name": "stdout",
     "output_type": "stream",
     "text": [
      "        date group  orders  buyers  revenue  visitors\n",
      "0 2019-08-01     A      23      19   142779       719\n",
      "1 2019-08-01     B      17      17    59758       713\n",
      "2 2019-08-02     A      42      36   234381      1338\n",
      "3 2019-08-02     B      40      39   221801      1294\n",
      "4 2019-08-03     A      66      60   346854      1845\n"
     ]
    }
   ],
   "source": [
    "# создаем массив уникальных пар значений дат и групп теста\n",
    "datesGroups = orders[['date','group']].drop_duplicates()\n",
    "\n",
    "# получаем агрегированные кумулятивные по дням данные о заказах \n",
    "ordersAggregated = datesGroups.apply(lambda x: orders[np.logical_and(orders['date'] <= x['date'], orders['group'] == x['group'])].agg({'date' : 'max', 'group' : 'max', 'transactionId' : 'nunique', 'visitorId' : 'nunique', 'revenue' : 'sum'}), axis=1).sort_values(by=['date','group'])\n",
    "\n",
    "# получаем агрегированные кумулятивные по дням данные о посетителях интернет-магазина \n",
    "visitorsAggregated = datesGroups.apply(lambda x: visitors[np.logical_and(visitors['date'] <= x['date'],\n",
    "                                                                         visitors['group'] == x['group'])]\n",
    "                                       .agg({'date' : 'max', 'group' : 'max', 'visitors' : 'sum'}), axis=1).sort_values(by=['date','group'])\n",
    "\n",
    "# объединяем кумулятивные данные в одной таблице и присваиваем ее столбцам понятные названия\n",
    "cumulativeData = ordersAggregated.merge(visitorsAggregated, left_on=['date', 'group'], right_on=['date', 'group'])\n",
    "cumulativeData.columns = ['date', 'group', 'orders', 'buyers', 'revenue', 'visitors']\n",
    "\n",
    "print(cumulativeData.head(5)) \n"
   ]
  },
  {
   "cell_type": "code",
   "execution_count": 17,
   "metadata": {},
   "outputs": [
    {
     "data": {
      "image/png": "[encoded data removed]",
      "text/plain": [
       "<Figure size 432x288 with 1 Axes>"
      ]
     },
     "metadata": {
      "needs_background": "light"
     },
     "output_type": "display_data"
    }
   ],
   "source": [
    "import matplotlib.pyplot as plt\n",
    "\n",
    "# датафрейм с кумулятивным количеством заказов и кумулятивной выручкой по дням в группе А\n",
    "cumulativeRevenueA = cumulativeData[cumulativeData['group']=='A'][['date','revenue', 'orders']]\n",
    "\n",
    "# датафрейм с кумулятивным количеством заказов и кумулятивной выручкой по дням в группе B\n",
    "cumulativeRevenueB = cumulativeData[cumulativeData['group']=='B'][['date','revenue', 'orders']]\n",
    "\n",
    "# Строим график выручки группы А\n",
    "plt.plot(cumulativeRevenueA['date'], cumulativeRevenueA['revenue'], label='A')\n",
    "\n",
    "# Строим график выручки группы B\n",
    "plt.plot(cumulativeRevenueB['date'], cumulativeRevenueB['revenue'], label='B')\n",
    "\n",
    "plt.title('График кумулятивной выручки по группам.')\n",
    "plt.ylabel('Выручка')\n",
    "plt.xlabel('Период')\n",
    "plt.xticks(rotation=45)\n",
    "plt.legend(['группа А', 'группа В'])\n",
    "plt.show()\n"
   ]
  },
  {
   "cell_type": "markdown",
   "metadata": {},
   "source": [
    "**Вывод**\n",
    "```\n",
    "Выручка почти равномерно увеличивается в течение всего теста. Хороший знак. \n",
    "Однако график выручки группы В имет резкий скачек роста. Возможно это скачек числа заказов или очень дорогие заказы, которые можно назвать выбросами.\n",
    "```"
   ]
  },
  {
   "cell_type": "markdown",
   "metadata": {},
   "source": [
    "**Постройте график кумулятивного среднего чека по группам. Сделайте выводы и предположения.**"
   ]
  },
  {
   "cell_type": "code",
   "execution_count": 18,
   "metadata": {},
   "outputs": [
    {
     "data": {
      "image/png": "[encoded data removed]",
      "text/plain": [
       "<Figure size 432x288 with 1 Axes>"
      ]
     },
     "metadata": {
      "needs_background": "light"
     },
     "output_type": "display_data"
    }
   ],
   "source": [
    "plt.plot(cumulativeRevenueA['date'], cumulativeRevenueA['revenue']/cumulativeRevenueA['orders'], label='A')\n",
    "plt.plot(cumulativeRevenueB['date'], cumulativeRevenueB['revenue']/cumulativeRevenueB['orders'], label='B')\n",
    "plt.title('График кумулятивного среднего чека по группам.')\n",
    "plt.ylabel('Сумма среднего чека')\n",
    "plt.xlabel('Период')\n",
    "plt.xticks(rotation=45)\n",
    "plt.legend(['группа А', 'группа В'])\n",
    "plt.show()\n"
   ]
  },
  {
   "cell_type": "markdown",
   "metadata": {},
   "source": [
    "**Вывод**\n",
    "```\n",
    "В группе А вначале теста наблюдаются скачки по значениям среднего чека, но со второй половины теста значения выравниваются. Вероятно,  вначале теста были очень дешевые заказы.\n",
    "А вот в группе В круных и дорогих покупок было много вначале и в середине теста. Даже к концу теста средний чек не выровнился и имеет низспадающий тренд. Этой группе нужно больше данных, чтобы прийти к реальному среднему чеку и установиться на его уровне, то есть тест нужно продолжить\n",
    "Вероятно, в данных есть выбросы и тест требует проверки на корректность его проведения. Не бывает так, чтобы две группы так заметно отличались друг от друга.\n",
    "```\n"
   ]
  },
  {
   "cell_type": "markdown",
   "metadata": {},
   "source": [
    "**Постройте график относительного изменения кумулятивного среднего чека группы B к группе A. Сделайте выводы и предположения.**"
   ]
  },
  {
   "cell_type": "code",
   "execution_count": 19,
   "metadata": {},
   "outputs": [
    {
     "data": {
      "image/png": "[encoded data removed]",
      "text/plain": [
       "<Figure size 432x288 with 1 Axes>"
      ]
     },
     "metadata": {
      "needs_background": "light"
     },
     "output_type": "display_data"
    }
   ],
   "source": [
    "# собираем данные в одном датафрейме\n",
    "mergedCumulativeRevenue = cumulativeRevenueA.merge(cumulativeRevenueB, left_on='date',\n",
    "                                                   right_on='date', how='left', suffixes=['A', 'B'])\n",
    "\n",
    "# cтроим отношение средних чеков\n",
    "plt.plot(mergedCumulativeRevenue['date'], (mergedCumulativeRevenue['revenueB']/mergedCumulativeRevenue['ordersB'])\n",
    "         /(mergedCumulativeRevenue['revenueA']/mergedCumulativeRevenue['ordersA'])-1)\n",
    "\n",
    "# добавляем ось X\n",
    "plt.axhline(y=0, color='black', linestyle='--') \n",
    "plt.title('График относительного изменения кумулятивного среднего чека группы B к группе A')\n",
    "plt.ylabel('Сумма среднего чека')\n",
    "plt.xlabel('Период')\n",
    "plt.xticks(rotation=45)\n",
    "plt.legend(['группа В', 'группа А'])\n",
    "plt.show()"
   ]
  },
  {
   "cell_type": "markdown",
   "metadata": {},
   "source": [
    "**Вывод**\n",
    "```\n",
    "На протяжении всего графика в группе В наблюдаются скачки значений среднего чека. Это свидетельствует, что в данных есть выбросы как в сторону очень дешевых так и в строну очень дорогих заказов относительно группы А.\n",
    "```"
   ]
  },
  {
   "cell_type": "markdown",
   "metadata": {},
   "source": [
    "**Постройте график кумулятивного среднего количества заказов на посетителя по группам. Сделайте выводы и предположения.**"
   ]
  },
  {
   "cell_type": "code",
   "execution_count": 20,
   "metadata": {},
   "outputs": [
    {
     "data": {
      "image/png": "[encoded data removed]",
      "text/plain": [
       "<Figure size 432x288 with 1 Axes>"
      ]
     },
     "metadata": {
      "needs_background": "light"
     },
     "output_type": "display_data"
    }
   ],
   "source": [
    "# датафрейм с кумулятивным количеством заказов и посетителей по дням в группе А\n",
    "cumulativeOrder_A_for_user = cumulativeData[cumulativeData['group']=='A'][['date','visitors', 'orders']]\n",
    "\n",
    "# датафрейм с кумулятивным количеством заказов и посетителей по дням в группе B\n",
    "cumulativeOrder_B_for_user = cumulativeData[cumulativeData['group']=='B'][['date','visitors', 'orders']]\n",
    "\n",
    "# Строим график среднего количества заказов на посетителя группы А\n",
    "plt.plot(cumulativeOrder_A_for_user['date'], cumulativeOrder_A_for_user['orders']/cumulativeOrder_A_for_user['visitors'], label='A')\n",
    "\n",
    "# Строим график среднего количества заказов на посетителя группы B\n",
    "plt.plot(cumulativeOrder_B_for_user['date'], cumulativeOrder_B_for_user['orders']/cumulativeOrder_B_for_user['visitors'], label='B')\n",
    "\n",
    "plt.title('График кумулятивного среднего количества заказов на посетителя по группам')\n",
    "plt.ylabel('Количество заказов')\n",
    "plt.xlabel('Период')\n",
    "plt.xticks(rotation=45)\n",
    "plt.legend(['группа А', 'группа В'])\n",
    "plt.show()"
   ]
  },
  {
   "cell_type": "markdown",
   "metadata": {},
   "source": [
    "**Вывод**\n",
    "```\n",
    "В группе А в начале теста появился посетитель, который сделал необычно много заказов, но потом значения количетсва заказов на посетилетя выровнялось.\n",
    "В группе В в начале и в середине теста были пользователи с большим количеством заказов. Ближе к конце теста количество заказов на 1 пользователя стало выравниваться.\n",
    "```"
   ]
  },
  {
   "cell_type": "markdown",
   "metadata": {},
   "source": [
    "**Постройте график относительного изменения кумулятивного среднего количества заказов на посетителя группы B к группе A. Сделайте выводы и предположения.**"
   ]
  },
  {
   "cell_type": "code",
   "execution_count": 21,
   "metadata": {},
   "outputs": [
    {
     "data": {
      "image/png": "[encoded data removed]",
      "text/plain": [
       "<Figure size 432x288 with 1 Axes>"
      ]
     },
     "metadata": {
      "needs_background": "light"
     },
     "output_type": "display_data"
    }
   ],
   "source": [
    "# собираем данные в одном датафрейме\n",
    "mergedCumulativeOrder = cumulativeOrder_A_for_user.merge(cumulativeOrder_B_for_user, left_on='date',\n",
    "                                                   right_on='date', how='left', suffixes=['A', 'B'])\n",
    "# print(mergedCumulativeOrder)\n",
    "# cтроим отношение среднего количества заказов на посетителя\n",
    "plt.plot(mergedCumulativeOrder['date'], (mergedCumulativeOrder['ordersB']/mergedCumulativeOrder['visitorsB'])\n",
    "          /(mergedCumulativeOrder['ordersA']/mergedCumulativeOrder['visitorsA'])-1)\n",
    "\n",
    "plt.axhline(y=0, color='black', linestyle='--') \n",
    "plt.title('График относительного изменения кумулятивного среднего количества заказов на посетителя группы B к группе A')\n",
    "plt.ylabel('Количество заказов')\n",
    "plt.xlabel('Период')\n",
    "plt.xticks(rotation=45)\n",
    "plt.legend(['группа В', 'группа А'])\n",
    "plt.show()"
   ]
  },
  {
   "cell_type": "markdown",
   "metadata": {},
   "source": [
    "**Вывод**\n",
    "```\n",
    "В группе В посетители были склонны делать больше заказов примерно на 10-15%, чем в группе А, хотя в начале наблюдался значительное отставание от группы А\n",
    "```"
   ]
  },
  {
   "cell_type": "markdown",
   "metadata": {},
   "source": [
    "**Постройте точечный график количества заказов по пользователям. Сделайте выводы и предположения.**"
   ]
  },
  {
   "cell_type": "code",
   "execution_count": 22,
   "metadata": {},
   "outputs": [
    {
     "name": "stdout",
     "output_type": "stream",
     "text": [
      "         userId  orders\n",
      "908  3967698036       3\n",
      "55    249864742       3\n",
      "478  2108163459       3\n",
      "687  2988190573       3\n",
      "890  3908431265       3\n",
      "138   611059232       3\n",
      "632  2742574263       3\n",
      "157   678354126       2\n",
      "323  1404560065       2\n",
      "452  1985475298       2\n"
     ]
    },
    {
     "data": {
      "image/png": "[encoded data removed]",
      "text/plain": [
       "<Figure size 432x288 with 1 Axes>"
      ]
     },
     "metadata": {
      "needs_background": "light"
     },
     "output_type": "display_data"
    }
   ],
   "source": [
    "ordersByUsers = (\n",
    "    orders.groupby('visitorId', as_index=False)\n",
    "    .agg({'transactionId': 'nunique'})\n",
    ")\n",
    "\n",
    "ordersByUsers.columns = ['userId', 'orders']\n",
    "\n",
    "print(ordersByUsers.sort_values(by='orders', ascending=False).head(10)) \n",
    "\n",
    "x_values = pd.Series(range(0,len(ordersByUsers)))\n",
    "\n",
    "plt.scatter(x_values, ordersByUsers['orders']) \n",
    "plt.title('График количества заказов по пользователям')\n",
    "plt.ylabel('Количество заказов')\n",
    "plt.xlabel('Посетители')\n",
    "# plt.legend(['группа В', 'группа А'])\n",
    "plt.show()\n"
   ]
  },
  {
   "cell_type": "markdown",
   "metadata": {},
   "source": [
    "**Выводы**\n",
    "```\n",
    "Основная доля посетителей делает 1 заказ, чуть реже 2 заказа. \n",
    "Количество заказов больше 2х уже скорее редкость.\n",
    "\n",
    "```"
   ]
  },
  {
   "cell_type": "markdown",
   "metadata": {},
   "source": [
    "**Посчитайте 95-й и 99-й перцентили количества заказов на пользователя. Выберите границу для определения аномальных пользователей.**"
   ]
  },
  {
   "cell_type": "code",
   "execution_count": 23,
   "metadata": {},
   "outputs": [
    {
     "name": "stdout",
     "output_type": "stream",
     "text": [
      "[1. 2.]\n"
     ]
    }
   ],
   "source": [
    "print(np.percentile(ordersByUsers['orders'], [95, 99])) "
   ]
  },
  {
   "cell_type": "markdown",
   "metadata": {},
   "source": [
    "   \n",
    "<b>Вывод: </b> типично для этого интернет магазина 1 заказ для 1 посетителя. Таким образом, верхняя граница параметра orders 1. \n",
    "</div>\n"
   ]
  },
  {
   "cell_type": "markdown",
   "metadata": {},
   "source": [
    "**Постройте точечный график стоимостей заказов. Сделайте выводы и предположения.**"
   ]
  },
  {
   "cell_type": "code",
   "execution_count": 24,
   "metadata": {},
   "outputs": [
    {
     "name": "stdout",
     "output_type": "stream",
     "text": [
      "         orders  revenue\n",
      "143   590470918  1294500\n",
      "939  3936777065   202740\n",
      "161   666610489    92550\n",
      "875  3668308183    86620\n",
      "850  3603576309    67990\n",
      "311  1348774318    66350\n",
      "71    316924019    65710\n",
      "310  1347999392    60450\n",
      "585  2420050534    58550\n",
      "738  3163614039    53904\n"
     ]
    },
    {
     "data": {
      "image/png": "[encoded data removed]",
      "text/plain": [
       "<Figure size 432x288 with 1 Axes>"
      ]
     },
     "metadata": {
      "needs_background": "light"
     },
     "output_type": "display_data"
    }
   ],
   "source": [
    "orders_orders_revenue = (\n",
    "    orders.groupby('transactionId', as_index=False)\n",
    "    .agg({'revenue': 'sum'})\n",
    ")\n",
    "\n",
    "orders_orders_revenue.columns = ['orders', 'revenue']\n",
    "\n",
    "print(orders_orders_revenue.sort_values(by='revenue', ascending=False).head(10)) \n",
    "\n",
    "x_values = pd.Series(range(0,len(orders_orders_revenue)))\n",
    "\n",
    "plt.scatter(x_values, orders_orders_revenue['revenue'])\n",
    "plt.title('График стоимостей заказов')\n",
    "plt.ylabel('Стоимость заказов')\n",
    "plt.xlabel('Посетители')\n",
    "# plt.xticks(rotation=45)\n",
    "# plt.legend(['группа В', 'группа А'])\n",
    "plt.show()"
   ]
  },
  {
   "cell_type": "markdown",
   "metadata": {},
   "source": [
    "**Вывод**\n",
    "```\n",
    "Сумма основной части заказов не более 100тр. На графике наблюдается 2 выброса: чуть более 200'000 и более 1,2млн. Последние значение может оказать существенное влияние на результаты тестирования.\n",
    "```"
   ]
  },
  {
   "cell_type": "markdown",
   "metadata": {},
   "source": [
    "**Посчитайте 95-й и 99-й перцентили стоимости заказов. Выберите границу для определения аномальных заказов.**"
   ]
  },
  {
   "cell_type": "code",
   "execution_count": 25,
   "metadata": {},
   "outputs": [
    {
     "name": "stdout",
     "output_type": "stream",
     "text": [
      "[26785. 53904.]\n"
     ]
    }
   ],
   "source": [
    "print(np.percentile(orders_orders_revenue['revenue'], [95, 99])) "
   ]
  },
  {
   "cell_type": "markdown",
   "metadata": {},
   "source": [
    "  \n",
    "<b>Вывод: </b> типичная сумма заказа для этого интернет магазина 26785. Таким образом, верхняя граница параметра revenue 26785. \n",
    "</div>"
   ]
  },
  {
   "cell_type": "markdown",
   "metadata": {},
   "source": [
    "**Посчитайте статистическую значимость различий в среднем количестве заказов на посетителя между группами по «сырым» данным. Сделайте выводы и предположения.**"
   ]
  },
  {
   "cell_type": "markdown",
   "metadata": {},
   "source": [
    "```\n",
    "Нулевая: различий в среднем количестве заказов между группами нет.\n",
    "Альтернативная: различия в среднем между группами есть.\n",
    "```"
   ]
  },
  {
   "cell_type": "code",
   "execution_count": 26,
   "metadata": {},
   "outputs": [
    {
     "data": {
      "text/html": [
       "<div>\n",
       "<style scoped>\n",
       "    .dataframe tbody tr th:only-of-type {\n",
       "        vertical-align: middle;\n",
       "    }\n",
       "\n",
       "    .dataframe tbody tr th {\n",
       "        vertical-align: top;\n",
       "    }\n",
       "\n",
       "    .dataframe thead th {\n",
       "        text-align: right;\n",
       "    }\n",
       "</style>\n",
       "<table border=\"1\" class=\"dataframe\">\n",
       "  <thead>\n",
       "    <tr style=\"text-align: right;\">\n",
       "      <th></th>\n",
       "      <th>date</th>\n",
       "      <th>ordersPerDateA</th>\n",
       "      <th>revenuePerDateA</th>\n",
       "      <th>ordersPerDateB</th>\n",
       "      <th>revenuePerDateB</th>\n",
       "      <th>ordersCummulativeA</th>\n",
       "      <th>revenueCummulativeA</th>\n",
       "      <th>ordersCummulativeB</th>\n",
       "      <th>revenueCummulativeB</th>\n",
       "      <th>visitorsPerDateA</th>\n",
       "      <th>visitorsPerDateB</th>\n",
       "      <th>visitorsCummulativeA</th>\n",
       "      <th>visitorsCummulativeB</th>\n",
       "    </tr>\n",
       "  </thead>\n",
       "  <tbody>\n",
       "    <tr>\n",
       "      <th>0</th>\n",
       "      <td>2019-08-01</td>\n",
       "      <td>23</td>\n",
       "      <td>142779</td>\n",
       "      <td>17</td>\n",
       "      <td>59758</td>\n",
       "      <td>23</td>\n",
       "      <td>142779</td>\n",
       "      <td>17</td>\n",
       "      <td>59758</td>\n",
       "      <td>719</td>\n",
       "      <td>713</td>\n",
       "      <td>719</td>\n",
       "      <td>713</td>\n",
       "    </tr>\n",
       "    <tr>\n",
       "      <th>1</th>\n",
       "      <td>2019-08-02</td>\n",
       "      <td>19</td>\n",
       "      <td>91602</td>\n",
       "      <td>23</td>\n",
       "      <td>162043</td>\n",
       "      <td>42</td>\n",
       "      <td>234381</td>\n",
       "      <td>40</td>\n",
       "      <td>221801</td>\n",
       "      <td>619</td>\n",
       "      <td>581</td>\n",
       "      <td>1338</td>\n",
       "      <td>1294</td>\n",
       "    </tr>\n",
       "    <tr>\n",
       "      <th>2</th>\n",
       "      <td>2019-08-03</td>\n",
       "      <td>24</td>\n",
       "      <td>112473</td>\n",
       "      <td>14</td>\n",
       "      <td>67049</td>\n",
       "      <td>66</td>\n",
       "      <td>346854</td>\n",
       "      <td>54</td>\n",
       "      <td>288850</td>\n",
       "      <td>507</td>\n",
       "      <td>509</td>\n",
       "      <td>1845</td>\n",
       "      <td>1803</td>\n",
       "    </tr>\n",
       "    <tr>\n",
       "      <th>3</th>\n",
       "      <td>2019-08-04</td>\n",
       "      <td>11</td>\n",
       "      <td>41176</td>\n",
       "      <td>14</td>\n",
       "      <td>96890</td>\n",
       "      <td>77</td>\n",
       "      <td>388030</td>\n",
       "      <td>68</td>\n",
       "      <td>385740</td>\n",
       "      <td>717</td>\n",
       "      <td>770</td>\n",
       "      <td>2562</td>\n",
       "      <td>2573</td>\n",
       "    </tr>\n",
       "    <tr>\n",
       "      <th>4</th>\n",
       "      <td>2019-08-05</td>\n",
       "      <td>22</td>\n",
       "      <td>86383</td>\n",
       "      <td>21</td>\n",
       "      <td>89908</td>\n",
       "      <td>99</td>\n",
       "      <td>474413</td>\n",
       "      <td>89</td>\n",
       "      <td>475648</td>\n",
       "      <td>756</td>\n",
       "      <td>707</td>\n",
       "      <td>3318</td>\n",
       "      <td>3280</td>\n",
       "    </tr>\n",
       "  </tbody>\n",
       "</table>\n",
       "</div>"
      ],
      "text/plain": [
       "        date  ordersPerDateA  revenuePerDateA  ordersPerDateB  \\\n",
       "0 2019-08-01              23           142779              17   \n",
       "1 2019-08-02              19            91602              23   \n",
       "2 2019-08-03              24           112473              14   \n",
       "3 2019-08-04              11            41176              14   \n",
       "4 2019-08-05              22            86383              21   \n",
       "\n",
       "   revenuePerDateB  ordersCummulativeA  revenueCummulativeA  \\\n",
       "0            59758                  23               142779   \n",
       "1           162043                  42               234381   \n",
       "2            67049                  66               346854   \n",
       "3            96890                  77               388030   \n",
       "4            89908                  99               474413   \n",
       "\n",
       "   ordersCummulativeB  revenueCummulativeB  visitorsPerDateA  \\\n",
       "0                  17                59758               719   \n",
       "1                  40               221801               619   \n",
       "2                  54               288850               507   \n",
       "3                  68               385740               717   \n",
       "4                  89               475648               756   \n",
       "\n",
       "   visitorsPerDateB  visitorsCummulativeA  visitorsCummulativeB  \n",
       "0               713                   719                   713  \n",
       "1               581                  1338                  1294  \n",
       "2               509                  1845                  1803  \n",
       "3               770                  2562                  2573  \n",
       "4               707                  3318                  3280  "
      ]
     },
     "metadata": {},
     "output_type": "display_data"
    }
   ],
   "source": [
    "# подготовка данных для рассчета стат.значимости\n",
    "    \n",
    "visitorsADaily = visitors[visitors['group'] == 'A'][['date', 'visitors']]\n",
    "visitorsADaily.columns = ['date', 'visitorsPerDateA']\n",
    "\n",
    "visitorsACummulative = visitorsADaily.apply(\n",
    "    lambda x: visitorsADaily[visitorsADaily['date'] <= x['date']].agg(\n",
    "        {'date': 'max', 'visitorsPerDateA': 'sum'}\n",
    "    ),\n",
    "    axis=1,\n",
    ")\n",
    "visitorsACummulative.columns = ['date', 'visitorsCummulativeA']\n",
    "\n",
    "visitorsBDaily = visitors[visitors['group'] == 'B'][['date', 'visitors']]\n",
    "visitorsBDaily.columns = ['date', 'visitorsPerDateB']\n",
    "\n",
    "visitorsBCummulative = visitorsBDaily.apply(\n",
    "    lambda x: visitorsBDaily[visitorsBDaily['date'] <= x['date']].agg(\n",
    "        {'date': 'max', 'visitorsPerDateB': 'sum'}\n",
    "    ),\n",
    "    axis=1,\n",
    ")\n",
    "visitorsBCummulative.columns = ['date', 'visitorsCummulativeB']\n",
    "\n",
    "ordersADaily = (\n",
    "    orders[orders['group'] == 'A'][['date', 'transactionId', 'visitorId', 'revenue']]\n",
    "    .groupby('date', as_index=False)\n",
    "    .agg({'transactionId': pd.Series.nunique, 'revenue': 'sum'})\n",
    ")\n",
    "ordersADaily.columns = ['date', 'ordersPerDateA', 'revenuePerDateA']\n",
    "\n",
    "ordersACummulative = ordersADaily.apply(\n",
    "    lambda x: ordersADaily[ordersADaily['date'] <= x['date']].agg(\n",
    "        {'date': 'max', 'ordersPerDateA': 'sum', 'revenuePerDateA': 'sum'}\n",
    "    ),\n",
    "    axis=1,\n",
    ").sort_values(by=['date'])\n",
    "ordersACummulative.columns = [\n",
    "    'date',\n",
    "    'ordersCummulativeA',\n",
    "    'revenueCummulativeA',\n",
    "]\n",
    "\n",
    "ordersBDaily = (\n",
    "    orders[orders['group'] == 'B'][['date', 'transactionId', 'visitorId', 'revenue']]\n",
    "    .groupby('date', as_index=False)\n",
    "    .agg({'transactionId': pd.Series.nunique, 'revenue': 'sum'})\n",
    ")\n",
    "ordersBDaily.columns = ['date', 'ordersPerDateB', 'revenuePerDateB']\n",
    "\n",
    "ordersBCummulative = ordersBDaily.apply(\n",
    "    lambda x: ordersBDaily[ordersBDaily['date'] <= x['date']].agg(\n",
    "        {'date': 'max', 'ordersPerDateB': 'sum', 'revenuePerDateB': 'sum'}\n",
    "    ),\n",
    "    axis=1,\n",
    ").sort_values(by=['date'])\n",
    "ordersBCummulative.columns = [\n",
    "    'date',\n",
    "    'ordersCummulativeB',\n",
    "    'revenueCummulativeB',\n",
    "]\n",
    "\n",
    "df = (\n",
    "    ordersADaily.merge(\n",
    "        ordersBDaily, left_on='date', right_on='date', how='left'\n",
    "    )\n",
    "    .merge(ordersACummulative, left_on='date', right_on='date', how='left')\n",
    "    .merge(ordersBCummulative, left_on='date', right_on='date', how='left')\n",
    "    .merge(visitorsADaily, left_on='date', right_on='date', how='left')\n",
    "    .merge(visitorsBDaily, left_on='date', right_on='date', how='left')\n",
    "    .merge(visitorsACummulative, left_on='date', right_on='date', how='left')\n",
    "    .merge(visitorsBCummulative, left_on='date', right_on='date', how='left')\n",
    ")\n",
    "\n",
    "display(df.head(5)) \n"
   ]
  },
  {
   "cell_type": "code",
   "execution_count": 27,
   "metadata": {},
   "outputs": [
    {
     "name": "stdout",
     "output_type": "stream",
     "text": [
      "p-value: 0.011\n",
      "Относительное преимущество группы B: 0.160\n"
     ]
    }
   ],
   "source": [
    "ordersByUsersA = (\n",
    "    orders[orders['group'] == 'A']\n",
    "    .groupby('visitorId', as_index=False)\n",
    "    .agg({'transactionId': pd.Series.nunique})\n",
    ")\n",
    "ordersByUsersA.columns = ['userId', 'orders']\n",
    "\n",
    "ordersByUsersB = (\n",
    "    orders[orders['group'] == 'B']\n",
    "    .groupby('visitorId', as_index=False)\n",
    "    .agg({'transactionId': pd.Series.nunique})\n",
    ")\n",
    "ordersByUsersB.columns = ['userId', 'orders'] \n",
    "\n",
    "\n",
    "\n",
    "sampleA = pd.concat([ordersByUsersA['orders'],pd.Series(0, index=np.arange(df['visitorsPerDateA'].sum()\n",
    "                                                                           - len(ordersByUsersA['orders'])),\n",
    "                                                        name='orders')], axis=0)\n",
    "\n",
    "sampleB = pd.concat([ordersByUsersB['orders'],pd.Series(0, index=np.arange(df['visitorsPerDateB'].sum()\n",
    "                                                                           - len(ordersByUsersB['orders'])),\n",
    "                                                        name='orders')], axis=0) \n",
    "\n",
    "print('p-value:', \"{0:.3f}\".format(stats.mannwhitneyu(sampleA, sampleB)[1]))\n",
    "\n",
    "print('Относительное преимущество группы B:', \"{0:.3f}\".format(sampleB.mean() / sampleA.mean() - 1))\n"
   ]
  },
  {
   "cell_type": "markdown",
   "metadata": {},
   "source": [
    "\n",
    "<b>Вывод: </b> По «сырым» данным различий в среднем числе заказов групп A и B нет. \n",
    "Первое число — p-value = 0.011 меньше 0.05. Значит, нулевую гипотезу о том, что статистически значимых различий в среднем числе заказов между группами нет, ОТВЕРГАЕМ. Относительное преимущество группы B равно 16%.\n",
    "Полагаю, что аномальные значения в группе В дают такое преимущество над группой А. \n"
   ]
  },
  {
   "cell_type": "markdown",
   "metadata": {},
   "source": [
    "**Посчитайте статистическую значимость различий в среднем чеке заказа между группами по «сырым» данным. Сделайте выводы и предположения.**"
   ]
  },
  {
   "cell_type": "markdown",
   "metadata": {},
   "source": [
    "Гипотезы:\n",
    "    \n",
    "-  H0 - Нет  различий в среднем чеке заказа между группами по \"сырым\" данным\n",
    "-  H1 - Есть различия в среднем чеке заказа между группами по \"сырым\" данным\n",
    "  "
   ]
  },
  {
   "cell_type": "code",
   "execution_count": 28,
   "metadata": {},
   "outputs": [
    {
     "name": "stdout",
     "output_type": "stream",
     "text": [
      "P-value: 0.829\n",
      "относительные различия в среднем чеке между группами 0.287\n"
     ]
    }
   ],
   "source": [
    "# статистическая значимость различий в среднем чеке\n",
    "print('P-value:', '{0:.3f}'.format(stats.mannwhitneyu(orders[orders['group']=='A']['revenue'], orders[orders['group']=='B']['revenue'])[1]))\n",
    "\n",
    "\n",
    "# относительные различия в среднем чеке между группами\n",
    "print('относительные различия в среднем чеке между группами', '{0:.3f}'.format(orders[orders['group']=='B']['revenue'].mean()/orders[orders['group']=='A']['revenue'].mean()-1)) \n"
   ]
  },
  {
   "cell_type": "markdown",
   "metadata": {},
   "source": [
    "\n",
    "<b>Вывод:</b>\n",
    "    \n",
    "    p-value равно 0,829, что больше 0,05. Не получилось отвергнуть нулевую гипотезу. В среднем чеке заказа между группами по \"сырым\" данным нет. Наблюдаемое различие в среднем чеке между группами в 28,7% не является статистически значимым.\n",
    "\n",
    "</div>\n",
    "\n"
   ]
  },
  {
   "cell_type": "markdown",
   "metadata": {},
   "source": [
    "**Посчитайте статистическую значимость различий в среднем количестве заказов на посетителя между группами по «очищенным» данным. Сделайте выводы и предположения.**"
   ]
  },
  {
   "cell_type": "markdown",
   "metadata": {},
   "source": [
    "\n",
    "Гипотезы:\n",
    "    \n",
    "-  H0 - Нет  различий в среднем количестве заказов на посетителя между группами по «очищенным» данным\n",
    "-  H1 - Есть различия в среднем количестве заказов на посетителя между группами по «очищенным» данным\n",
    "  \n",
    "</div>\n"
   ]
  },
  {
   "cell_type": "code",
   "execution_count": 29,
   "metadata": {},
   "outputs": [
    {
     "name": "stdout",
     "output_type": "stream",
     "text": [
      "p-value:0.016\n",
      "относительные различия между группами 0.174\n"
     ]
    }
   ],
   "source": [
    "usersWithManyOrders = pd.concat(\n",
    "    [\n",
    "        ordersByUsersA[ordersByUsersA['orders'] > 1]['userId'],\n",
    "        ordersByUsersB[ordersByUsersB['orders'] > 1]['userId'],\n",
    "    ],\n",
    "    axis=0,\n",
    ")\n",
    "usersWithExpensiveOrders = orders[orders['revenue'] > 26785]['visitorId']\n",
    "abnormalUsers = (\n",
    "    pd.concat([usersWithManyOrders, usersWithExpensiveOrders], axis=0)\n",
    "    .drop_duplicates()\n",
    "    .sort_values()\n",
    ")\n",
    "\n",
    "\n",
    "sampleAFiltered = pd.concat(\n",
    "    [\n",
    "        ordersByUsersA[\n",
    "            np.logical_not(ordersByUsersA['userId'].isin(abnormalUsers))\n",
    "        ]['orders'],\n",
    "        pd.Series(\n",
    "            0,\n",
    "            index=np.arange(\n",
    "                df['visitorsPerDateA'].sum() - len(ordersByUsersA['orders'])\n",
    "            ),\n",
    "            name='orders',\n",
    "        ),\n",
    "    ],\n",
    "    axis=0,\n",
    ")\n",
    "\n",
    "sampleBFiltered = pd.concat(\n",
    "    [\n",
    "        ordersByUsersB[\n",
    "            np.logical_not(ordersByUsersB['userId'].isin(abnormalUsers))\n",
    "        ]['orders'],\n",
    "        pd.Series(\n",
    "            0,\n",
    "            index=np.arange(\n",
    "                df['visitorsPerDateB'].sum() - len(ordersByUsersB['orders'])\n",
    "            ),\n",
    "            name='orders',\n",
    "        ),\n",
    "    ],\n",
    "    axis=0,\n",
    ") \n",
    "\n",
    "print('p-value:''{0:.3f}'.format(stats.mannwhitneyu(sampleAFiltered, sampleBFiltered)[1]))\n",
    "print('относительные различия между группами', '{0:.3f}'.format(sampleBFiltered.mean()/sampleAFiltered.mean()-1)) \n"
   ]
  },
  {
   "cell_type": "markdown",
   "metadata": {},
   "source": [
    "\n",
    "<b>Вывод:</b> Нулевую гипотезу ОТВЕРГАЕМ. Различий в среднем количестве заказов на посетителя между группами по «очищенным» данным ЕСТЬ.\n",
    "</div>"
   ]
  },
  {
   "cell_type": "markdown",
   "metadata": {},
   "source": [
    "**Посчитайте статистическую значимость различий в среднем чеке заказа между группами по «очищенным» данным. Сделайте выводы и предположения.**"
   ]
  },
  {
   "cell_type": "markdown",
   "metadata": {},
   "source": [
    "Гипотезы:\n",
    "    \n",
    "-  H0 - Нет  различий  в среднем чеке заказа между группами по «очищенным» данным\n",
    "-  H1 - Есть различия  в среднем чеке заказа между группами по «очищенным» данным\n",
    "  \n",
    "</div>"
   ]
  },
  {
   "cell_type": "code",
   "execution_count": 30,
   "metadata": {},
   "outputs": [
    {
     "name": "stdout",
     "output_type": "stream",
     "text": [
      "P-value 0.727\n",
      "Относительные различия между группами -0.034\n"
     ]
    }
   ],
   "source": [
    "print('P-value', '{0:.3f}'.format(stats.mannwhitneyu(orders[np.logical_and(orders['group'] == 'A',\n",
    "                    np.logical_not(orders['visitorId'].isin(abnormalUsers)),\n",
    "                )]['revenue'],\n",
    "            orders[np.logical_and(orders['group'] == 'B', np.logical_not(orders['visitorId'].isin(abnormalUsers)),\n",
    "                )\n",
    "            ]['revenue'],)[1])\n",
    ")\n",
    "\n",
    "print(\"Относительные различия между группами\", \"{0:.3f}\".format(orders[np.logical_and(orders['group'] == 'B', np.logical_not(orders['visitorId'].isin(abnormalUsers)),\n",
    "            )\n",
    "        ]['revenue'].mean()\n",
    "        / orders[np.logical_and(orders['group'] == 'A',\n",
    "                np.logical_not(orders['visitorId'].isin(abnormalUsers)),)]['revenue'].mean()- 1)) \n"
   ]
  },
  {
   "cell_type": "markdown",
   "metadata": {},
   "source": [
    "**Вывод**\n",
    "```\n",
    "P-value увеличился, но и разница между сегментами сократилась с 25.9% до -2%, то есть ранее группа В имела приемущество перед группой А, но по очищенным данным отстает от группы А на 2%.\n",
    "```"
   ]
  },
  {
   "cell_type": "markdown",
   "metadata": {},
   "source": [
    "### Общий вывод\n",
    "\n",
    "Приоритизация гипотез была провведена двумя методами со следующими результатами: \n",
    "-  ICE, ТОП-3 гипотизы №8, №0, №7\n",
    "-  RICE ТОП-3 гипотизы №7,2,0, при этом гипотиза №8 оказалась на 5-м месте\n",
    "\n",
    "Различие приотитетов возникло из-за параметра Reach (охвата).\n",
    "У гипотиз №0, №7, №8 высокие значения параметров Impact и Confidence (от 7 до 10 баллов)  при среднем значении Efforts (от 5 до 5 баллов)\n",
    "А вот параметр Reach у гипотезы №0 и №8 очень низкий и составляет 3 и 1 балл соответственно, в то время как у гипотизы №7 Reach равен 10. Таким образом по методу RICE гипотеза №7 получила наивысший приоритет.\n",
    "\n",
    "<b>Рекомендация</b> к тестированию гипотезы №7 - Добавить форму подписки на все основные страни...\tтак как это работа с сайтом и способ повышения конверсии или как минимум вовлеченность в сайт уже привлеченного пользователя.\n",
    "\n",
    "\n",
    "#### Анализ А/В теста.\n",
    "Была проведена оценка следующих параметров по данным тестирования:\n",
    "\n",
    "1. кумулятивная выручка по группам: почти равномерно увеличивается в течение всего теста. Хороший знак. Однако график выручки группы В имет резкий скачек роста. Возможно это скачек числа заказов или очень дорогие заказы, которые можно назвать выбросами.\n",
    "\n",
    "2. кумулятивный средний чек по группам: в группе А вначале теста наблюдаются скачки по значениям среднего чека, но со второй половины теста значения выравниваются. Вероятно,  вначале теста были очень дешевые заказы.\n",
    "А вот в группе В круных и дорогих покупок было много вначале и в середине теста. Даже к концу теста средний чек не выровнился и имеет низспадающий тренд. Этой группе нужно больше данных, чтобы прийти к реальному среднему чеку и установиться на его уровне, то есть тест нужно продолжить.\n",
    "\n",
    "3. кумулятивное среднее количество заказов на посетителя по группам: В группе А в начале теста появился посетитель, который сделал необычно много заказов, но потом значения количетсва заказов на посетилетя выровнялось.\n",
    "В группе В в начале и в середине теста были пользователи с большим количеством заказов. Ближе к конце теста количество заказов на 1 пользователя стало выравниваться.\n",
    "\n",
    "4. Типичное количества заказов на пользователя для интеренет мазазина не более 1р в месяц.\n",
    "5. Типичное сумма заказа на пользователя для интеренет мазазина - не более 26785.\n",
    "\n",
    "6. При этом мы можем отвергнуть гипотезу, что различий в среднем количестве заказов между группами нет. Вывод сформирован на основании cтатистической значимости различий в среднем количестве заказов на посетителя между группами.\n",
    "7. При этом мы не можем отвергнуть гипотезу, что различий в среднем  чеке заказа между группами нет. Вывод сформирован на основании статистическая значимости различий в среднем чеке заказа между группами.\n",
    "\n",
    "По результатам теста рекомендуем остановить тест, так как уже набрано достаточное количество данных, чтобы посчитать статистику.\n",
    "Согласно статистическим данным гипотеза о неравенстве групп А и Б по показателю среднего количества заказов подтвердилась, и гипотезу равенства средний чек на одного посетителя, отвергнуть не удалось.\n",
    "\n",
    "На основании полученных данных при тестировании группа В больше соответствует задаче по увеличению доходов компании, так как в этой группе посетители примерно на 16% больше совершали заказов, чем в группе А при относительном равенстве средних чеков между группами.\n",
    " "
   ]
  }
 ],
 "metadata": {
  "ExecuteTimeLog": [
   {
    "duration": 353,
    "start_time": "2023-04-17T07:35:48.625Z"
   },
   {
    "duration": 61,
    "start_time": "2023-04-17T07:36:23.366Z"
   },
   {
    "duration": 34,
    "start_time": "2023-04-17T07:36:34.334Z"
   },
   {
    "duration": 5,
    "start_time": "2023-04-17T07:40:49.081Z"
   },
   {
    "duration": 5,
    "start_time": "2023-04-17T07:41:03.051Z"
   },
   {
    "duration": 5,
    "start_time": "2023-04-17T07:41:50.036Z"
   },
   {
    "duration": 5,
    "start_time": "2023-04-17T07:42:05.684Z"
   },
   {
    "duration": 7,
    "start_time": "2023-04-17T07:44:57.613Z"
   },
   {
    "duration": 143,
    "start_time": "2023-04-17T08:12:06.532Z"
   },
   {
    "duration": 67,
    "start_time": "2023-04-17T08:18:20.230Z"
   },
   {
    "duration": 73,
    "start_time": "2023-04-17T08:19:38.230Z"
   },
   {
    "duration": 50,
    "start_time": "2023-04-17T08:21:10.426Z"
   },
   {
    "duration": 54,
    "start_time": "2023-04-17T08:21:42.324Z"
   },
   {
    "duration": 259,
    "start_time": "2023-04-17T08:21:56.528Z"
   },
   {
    "duration": 3,
    "start_time": "2023-04-17T08:22:24.272Z"
   },
   {
    "duration": 207,
    "start_time": "2023-04-17T08:22:35.070Z"
   },
   {
    "duration": 189,
    "start_time": "2023-04-17T08:23:19.830Z"
   },
   {
    "duration": 11,
    "start_time": "2023-04-17T08:23:47.668Z"
   },
   {
    "duration": 219,
    "start_time": "2023-04-17T08:24:04.334Z"
   },
   {
    "duration": 4,
    "start_time": "2023-04-17T08:24:04.750Z"
   },
   {
    "duration": 190,
    "start_time": "2023-04-17T08:24:11.033Z"
   },
   {
    "duration": 4,
    "start_time": "2023-04-17T08:27:24.246Z"
   },
   {
    "duration": 28,
    "start_time": "2023-04-17T08:27:24.251Z"
   },
   {
    "duration": 4,
    "start_time": "2023-04-17T08:27:24.281Z"
   },
   {
    "duration": 7,
    "start_time": "2023-04-17T08:27:24.287Z"
   },
   {
    "duration": 69,
    "start_time": "2023-04-17T08:27:24.295Z"
   },
   {
    "duration": 11,
    "start_time": "2023-04-17T08:27:27.217Z"
   },
   {
    "duration": 3,
    "start_time": "2023-04-17T08:27:30.515Z"
   },
   {
    "duration": 198,
    "start_time": "2023-04-17T08:28:53.523Z"
   },
   {
    "duration": 2,
    "start_time": "2023-04-17T08:29:16.566Z"
   },
   {
    "duration": 28,
    "start_time": "2023-04-17T08:29:16.570Z"
   },
   {
    "duration": 4,
    "start_time": "2023-04-17T08:29:16.600Z"
   },
   {
    "duration": 8,
    "start_time": "2023-04-17T08:29:16.605Z"
   },
   {
    "duration": 64,
    "start_time": "2023-04-17T08:29:16.615Z"
   },
   {
    "duration": 72,
    "start_time": "2023-04-17T08:29:18.643Z"
   },
   {
    "duration": 24,
    "start_time": "2023-04-17T08:29:20.910Z"
   },
   {
    "duration": 450,
    "start_time": "2023-04-17T08:33:05.337Z"
   },
   {
    "duration": 2,
    "start_time": "2023-04-17T08:34:32.011Z"
   },
   {
    "duration": 52,
    "start_time": "2023-04-17T08:34:32.015Z"
   },
   {
    "duration": 15,
    "start_time": "2023-04-17T08:34:32.069Z"
   },
   {
    "duration": 30,
    "start_time": "2023-04-17T08:34:32.085Z"
   },
   {
    "duration": 91,
    "start_time": "2023-04-17T08:34:32.118Z"
   },
   {
    "duration": 29,
    "start_time": "2023-04-17T08:34:32.211Z"
   },
   {
    "duration": 126,
    "start_time": "2023-04-17T08:34:37.844Z"
   },
   {
    "duration": 64,
    "start_time": "2023-04-17T08:37:24.989Z"
   },
   {
    "duration": 83,
    "start_time": "2023-04-17T08:39:49.343Z"
   },
   {
    "duration": 191,
    "start_time": "2023-04-17T08:40:07.521Z"
   },
   {
    "duration": 194,
    "start_time": "2023-04-17T08:40:27.042Z"
   },
   {
    "duration": 49,
    "start_time": "2023-04-17T08:54:09.634Z"
   },
   {
    "duration": 67,
    "start_time": "2023-04-17T08:54:26.129Z"
   },
   {
    "duration": 49,
    "start_time": "2023-04-17T08:54:46.237Z"
   },
   {
    "duration": 56,
    "start_time": "2023-04-17T08:55:03.832Z"
   },
   {
    "duration": 23,
    "start_time": "2023-04-17T08:55:14.742Z"
   },
   {
    "duration": 240,
    "start_time": "2023-04-17T08:56:28.533Z"
   },
   {
    "duration": 652,
    "start_time": "2023-04-17T08:58:06.661Z"
   },
   {
    "duration": 43,
    "start_time": "2023-04-17T09:16:59.530Z"
   },
   {
    "duration": 778,
    "start_time": "2023-04-17T09:17:08.185Z"
   },
   {
    "duration": 85,
    "start_time": "2023-04-17T09:17:08.965Z"
   },
   {
    "duration": 6,
    "start_time": "2023-04-17T09:17:09.051Z"
   },
   {
    "duration": 7,
    "start_time": "2023-04-17T09:17:09.059Z"
   },
   {
    "duration": 193,
    "start_time": "2023-04-17T09:17:09.068Z"
   },
   {
    "duration": 26,
    "start_time": "2023-04-17T09:17:09.263Z"
   },
   {
    "duration": 288,
    "start_time": "2023-04-17T09:17:09.291Z"
   },
   {
    "duration": 615,
    "start_time": "2023-04-17T09:17:09.580Z"
   },
   {
    "duration": 153,
    "start_time": "2023-04-17T09:17:12.701Z"
   },
   {
    "duration": 263,
    "start_time": "2023-04-17T10:58:44.375Z"
   },
   {
    "duration": 50,
    "start_time": "2023-04-17T10:58:53.914Z"
   },
   {
    "duration": 264,
    "start_time": "2023-04-17T10:59:03.620Z"
   },
   {
    "duration": 15,
    "start_time": "2023-04-17T11:22:02.354Z"
   },
   {
    "duration": 52,
    "start_time": "2023-04-17T11:22:47.685Z"
   },
   {
    "duration": 13,
    "start_time": "2023-04-17T11:23:08.914Z"
   },
   {
    "duration": 142,
    "start_time": "2023-04-17T11:23:35.532Z"
   },
   {
    "duration": 13,
    "start_time": "2023-04-17T11:31:02.999Z"
   },
   {
    "duration": 11,
    "start_time": "2023-04-17T11:34:13.210Z"
   },
   {
    "duration": 180,
    "start_time": "2023-04-17T11:40:16.581Z"
   },
   {
    "duration": 57,
    "start_time": "2023-04-17T11:50:32.462Z"
   },
   {
    "duration": 754,
    "start_time": "2023-04-17T11:52:44.001Z"
   },
   {
    "duration": 288,
    "start_time": "2023-04-17T11:54:12.826Z"
   },
   {
    "duration": 9,
    "start_time": "2023-04-17T11:55:31.621Z"
   },
   {
    "duration": 252,
    "start_time": "2023-04-17T11:58:57.967Z"
   },
   {
    "duration": 17,
    "start_time": "2023-04-17T12:04:12.412Z"
   },
   {
    "duration": 164,
    "start_time": "2023-04-17T12:09:40.367Z"
   },
   {
    "duration": 937,
    "start_time": "2023-04-18T11:56:45.440Z"
   },
   {
    "duration": 75,
    "start_time": "2023-04-18T11:56:46.379Z"
   },
   {
    "duration": 10,
    "start_time": "2023-04-18T11:56:46.456Z"
   },
   {
    "duration": 16,
    "start_time": "2023-04-18T11:56:46.469Z"
   },
   {
    "duration": 188,
    "start_time": "2023-04-18T11:56:46.487Z"
   },
   {
    "duration": 30,
    "start_time": "2023-04-18T11:56:46.677Z"
   },
   {
    "duration": 332,
    "start_time": "2023-04-18T11:56:46.708Z"
   },
   {
    "duration": 849,
    "start_time": "2023-04-18T11:56:47.042Z"
   },
   {
    "duration": 210,
    "start_time": "2023-04-18T11:56:47.893Z"
   },
   {
    "duration": 321,
    "start_time": "2023-04-18T11:56:48.106Z"
   },
   {
    "duration": 14,
    "start_time": "2023-04-18T11:56:48.428Z"
   },
   {
    "duration": 231,
    "start_time": "2023-04-18T11:56:48.444Z"
   },
   {
    "duration": 329,
    "start_time": "2023-04-18T11:56:48.677Z"
   },
   {
    "duration": 229,
    "start_time": "2023-04-18T11:56:49.539Z"
   },
   {
    "duration": 131,
    "start_time": "2023-04-18T11:57:52.029Z"
   },
   {
    "duration": 4,
    "start_time": "2023-04-18T11:58:27.826Z"
   },
   {
    "duration": 9,
    "start_time": "2023-04-18T12:08:35.624Z"
   },
   {
    "duration": 16,
    "start_time": "2023-04-18T12:10:05.814Z"
   },
   {
    "duration": 168,
    "start_time": "2023-04-18T12:13:16.384Z"
   },
   {
    "duration": 5,
    "start_time": "2023-04-18T12:21:59.307Z"
   },
   {
    "duration": 21,
    "start_time": "2023-04-18T12:27:24.747Z"
   },
   {
    "duration": 11,
    "start_time": "2023-04-18T12:28:10.023Z"
   },
   {
    "duration": 167,
    "start_time": "2023-04-18T12:29:07.683Z"
   },
   {
    "duration": 1491,
    "start_time": "2023-04-18T12:38:55.928Z"
   },
   {
    "duration": 209,
    "start_time": "2023-04-18T12:40:46.718Z"
   },
   {
    "duration": 3,
    "start_time": "2023-04-18T12:40:57.379Z"
   },
   {
    "duration": 72,
    "start_time": "2023-04-18T12:40:57.385Z"
   },
   {
    "duration": 8,
    "start_time": "2023-04-18T12:40:57.459Z"
   },
   {
    "duration": 16,
    "start_time": "2023-04-18T12:40:57.469Z"
   },
   {
    "duration": 124,
    "start_time": "2023-04-18T12:40:57.487Z"
   },
   {
    "duration": 40,
    "start_time": "2023-04-18T12:40:57.614Z"
   },
   {
    "duration": 356,
    "start_time": "2023-04-18T12:40:57.657Z"
   },
   {
    "duration": 292,
    "start_time": "2023-04-18T12:40:58.016Z"
   },
   {
    "duration": 219,
    "start_time": "2023-04-18T12:40:58.311Z"
   },
   {
    "duration": 373,
    "start_time": "2023-04-18T12:40:58.533Z"
   },
   {
    "duration": 245,
    "start_time": "2023-04-18T12:40:58.911Z"
   },
   {
    "duration": 344,
    "start_time": "2023-04-18T12:40:59.159Z"
   },
   {
    "duration": 184,
    "start_time": "2023-04-18T12:40:59.509Z"
   },
   {
    "duration": 7,
    "start_time": "2023-04-18T12:40:59.695Z"
   },
   {
    "duration": 208,
    "start_time": "2023-04-18T12:40:59.704Z"
   },
   {
    "duration": 6,
    "start_time": "2023-04-18T12:40:59.918Z"
   },
   {
    "duration": 259,
    "start_time": "2023-04-18T12:40:59.926Z"
   },
   {
    "duration": 22,
    "start_time": "2023-04-18T12:41:00.187Z"
   },
   {
    "duration": 10,
    "start_time": "2023-04-18T12:41:02.257Z"
   },
   {
    "duration": 289,
    "start_time": "2023-04-18T12:41:02.722Z"
   },
   {
    "duration": 14,
    "start_time": "2023-04-18T12:50:55.367Z"
   },
   {
    "duration": 1635,
    "start_time": "2023-04-18T12:55:24.052Z"
   },
   {
    "duration": 14,
    "start_time": "2023-04-18T12:59:09.429Z"
   },
   {
    "duration": 15,
    "start_time": "2023-04-18T13:01:09.350Z"
   },
   {
    "duration": 64,
    "start_time": "2023-04-18T13:01:22.842Z"
   },
   {
    "duration": 10,
    "start_time": "2023-04-18T13:41:22.915Z"
   },
   {
    "duration": 15,
    "start_time": "2023-04-18T13:42:03.560Z"
   },
   {
    "duration": 30,
    "start_time": "2023-04-18T13:54:35.042Z"
   },
   {
    "duration": 33,
    "start_time": "2023-04-18T13:54:49.550Z"
   },
   {
    "duration": 4,
    "start_time": "2023-04-18T13:59:39.759Z"
   },
   {
    "duration": 5,
    "start_time": "2023-04-18T14:00:01.033Z"
   },
   {
    "duration": 840,
    "start_time": "2023-04-18T15:13:39.622Z"
   },
   {
    "duration": 38,
    "start_time": "2023-04-18T15:13:40.464Z"
   },
   {
    "duration": 7,
    "start_time": "2023-04-18T15:13:40.504Z"
   },
   {
    "duration": 5,
    "start_time": "2023-04-18T15:13:40.512Z"
   },
   {
    "duration": 76,
    "start_time": "2023-04-18T15:13:40.519Z"
   },
   {
    "duration": 33,
    "start_time": "2023-04-18T15:13:40.597Z"
   },
   {
    "duration": 298,
    "start_time": "2023-04-18T15:13:40.632Z"
   },
   {
    "duration": 536,
    "start_time": "2023-04-18T15:13:40.932Z"
   },
   {
    "duration": 187,
    "start_time": "2023-04-18T15:13:41.469Z"
   },
   {
    "duration": 244,
    "start_time": "2023-04-18T15:13:41.658Z"
   },
   {
    "duration": 197,
    "start_time": "2023-04-18T15:13:41.911Z"
   },
   {
    "duration": 280,
    "start_time": "2023-04-18T15:13:42.111Z"
   },
   {
    "duration": 141,
    "start_time": "2023-04-18T15:13:42.393Z"
   },
   {
    "duration": 5,
    "start_time": "2023-04-18T15:13:42.537Z"
   },
   {
    "duration": 167,
    "start_time": "2023-04-18T15:13:42.544Z"
   },
   {
    "duration": 4,
    "start_time": "2023-04-18T15:13:42.713Z"
   },
   {
    "duration": 256,
    "start_time": "2023-04-18T15:13:42.719Z"
   },
   {
    "duration": 160,
    "start_time": "2023-04-18T15:13:42.976Z"
   },
   {
    "duration": 11,
    "start_time": "2023-04-18T15:13:43.138Z"
   },
   {
    "duration": 35,
    "start_time": "2023-04-18T15:13:43.150Z"
   },
   {
    "duration": 36,
    "start_time": "2023-04-18T15:13:43.186Z"
   },
   {
    "duration": 54,
    "start_time": "2023-04-19T11:39:17.081Z"
   },
   {
    "duration": 790,
    "start_time": "2023-04-19T11:49:31.600Z"
   },
   {
    "duration": 84,
    "start_time": "2023-04-19T11:49:32.392Z"
   },
   {
    "duration": 17,
    "start_time": "2023-04-19T11:49:32.478Z"
   },
   {
    "duration": 19,
    "start_time": "2023-04-19T11:49:32.498Z"
   },
   {
    "duration": 243,
    "start_time": "2023-04-19T11:49:32.518Z"
   },
   {
    "duration": 51,
    "start_time": "2023-04-19T11:49:32.763Z"
   },
   {
    "duration": 5,
    "start_time": "2023-04-19T11:49:36.074Z"
   },
   {
    "duration": 6,
    "start_time": "2023-04-19T12:00:28.990Z"
   },
   {
    "duration": 7,
    "start_time": "2023-04-19T12:05:24.475Z"
   },
   {
    "duration": 6,
    "start_time": "2023-04-19T12:05:36.871Z"
   },
   {
    "duration": 6,
    "start_time": "2023-04-19T12:05:46.173Z"
   },
   {
    "duration": 5,
    "start_time": "2023-04-19T12:06:05.694Z"
   },
   {
    "duration": 8,
    "start_time": "2023-04-19T12:06:20.110Z"
   },
   {
    "duration": 104,
    "start_time": "2023-04-19T12:10:26.236Z"
   },
   {
    "duration": 4,
    "start_time": "2023-04-19T12:10:33.956Z"
   },
   {
    "duration": 3,
    "start_time": "2023-04-19T12:10:52.813Z"
   },
   {
    "duration": 77,
    "start_time": "2023-04-19T12:25:43.549Z"
   },
   {
    "duration": 44,
    "start_time": "2023-04-19T12:26:06.089Z"
   },
   {
    "duration": 168,
    "start_time": "2023-04-19T12:26:49.841Z"
   },
   {
    "duration": 46,
    "start_time": "2023-04-19T12:27:12.874Z"
   },
   {
    "duration": 118,
    "start_time": "2023-04-19T12:27:20.834Z"
   },
   {
    "duration": 5,
    "start_time": "2023-04-19T12:27:55.714Z"
   },
   {
    "duration": 160,
    "start_time": "2023-04-19T12:28:04.438Z"
   },
   {
    "duration": 92,
    "start_time": "2023-04-19T12:28:42.885Z"
   },
   {
    "duration": 21,
    "start_time": "2023-04-19T12:31:49.633Z"
   },
   {
    "duration": 16,
    "start_time": "2023-04-19T12:32:37.528Z"
   },
   {
    "duration": 43,
    "start_time": "2023-04-19T12:33:12.112Z"
   },
   {
    "duration": 15,
    "start_time": "2023-04-19T12:33:17.576Z"
   },
   {
    "duration": 4,
    "start_time": "2023-04-19T12:35:43.937Z"
   },
   {
    "duration": 7,
    "start_time": "2023-04-19T12:35:51.803Z"
   },
   {
    "duration": 9,
    "start_time": "2023-04-19T12:37:08.336Z"
   },
   {
    "duration": 13,
    "start_time": "2023-04-19T12:37:35.800Z"
   },
   {
    "duration": 718,
    "start_time": "2023-04-19T12:37:54.312Z"
   },
   {
    "duration": 13,
    "start_time": "2023-04-19T12:38:26.776Z"
   },
   {
    "duration": 11,
    "start_time": "2023-04-19T12:40:40.604Z"
   },
   {
    "duration": 11,
    "start_time": "2023-04-19T12:40:47.531Z"
   },
   {
    "duration": 9,
    "start_time": "2023-04-19T12:41:04.568Z"
   },
   {
    "duration": 17,
    "start_time": "2023-04-19T12:41:17.490Z"
   },
   {
    "duration": 15,
    "start_time": "2023-04-19T12:42:33.022Z"
   },
   {
    "duration": 13,
    "start_time": "2023-04-19T12:43:04.438Z"
   },
   {
    "duration": 14,
    "start_time": "2023-04-19T12:43:11.937Z"
   },
   {
    "duration": 12,
    "start_time": "2023-04-19T12:44:12.373Z"
   },
   {
    "duration": 10,
    "start_time": "2023-04-19T12:44:59.322Z"
   },
   {
    "duration": 14,
    "start_time": "2023-04-19T12:45:21.367Z"
   },
   {
    "duration": 13,
    "start_time": "2023-04-19T12:45:36.082Z"
   },
   {
    "duration": 16,
    "start_time": "2023-04-19T12:51:29.018Z"
   },
   {
    "duration": 19,
    "start_time": "2023-04-19T12:52:04.380Z"
   },
   {
    "duration": 18,
    "start_time": "2023-04-19T12:53:20.020Z"
   },
   {
    "duration": 16,
    "start_time": "2023-04-19T12:53:39.253Z"
   },
   {
    "duration": 17,
    "start_time": "2023-04-19T12:54:10.108Z"
   },
   {
    "duration": 705,
    "start_time": "2023-04-19T12:56:35.669Z"
   },
   {
    "duration": 22,
    "start_time": "2023-04-19T12:56:49.740Z"
   },
   {
    "duration": 16,
    "start_time": "2023-04-19T12:57:17.209Z"
   },
   {
    "duration": 17,
    "start_time": "2023-04-19T12:57:28.731Z"
   },
   {
    "duration": 16,
    "start_time": "2023-04-19T12:59:28.709Z"
   },
   {
    "duration": 16,
    "start_time": "2023-04-19T13:00:02.676Z"
   },
   {
    "duration": 16,
    "start_time": "2023-04-19T13:03:35.228Z"
   },
   {
    "duration": 15,
    "start_time": "2023-04-19T13:04:51.662Z"
   },
   {
    "duration": 11,
    "start_time": "2023-04-19T13:06:36.903Z"
   },
   {
    "duration": 11,
    "start_time": "2023-04-19T13:07:44.150Z"
   },
   {
    "duration": 11,
    "start_time": "2023-04-19T13:08:06.220Z"
   },
   {
    "duration": 16,
    "start_time": "2023-04-19T13:08:47.217Z"
   },
   {
    "duration": 9,
    "start_time": "2023-04-19T13:09:27.250Z"
   },
   {
    "duration": 10,
    "start_time": "2023-04-19T13:10:13.574Z"
   },
   {
    "duration": 15,
    "start_time": "2023-04-19T13:10:18.393Z"
   },
   {
    "duration": 576,
    "start_time": "2023-04-19T13:12:05.054Z"
   },
   {
    "duration": 3,
    "start_time": "2023-04-19T13:12:57.316Z"
   },
   {
    "duration": 39,
    "start_time": "2023-04-19T13:12:57.322Z"
   },
   {
    "duration": 6,
    "start_time": "2023-04-19T13:12:57.363Z"
   },
   {
    "duration": 9,
    "start_time": "2023-04-19T13:12:57.371Z"
   },
   {
    "duration": 78,
    "start_time": "2023-04-19T13:12:57.382Z"
   },
   {
    "duration": 86,
    "start_time": "2023-04-19T13:12:59.245Z"
   },
   {
    "duration": 21,
    "start_time": "2023-04-19T13:12:59.655Z"
   },
   {
    "duration": 13,
    "start_time": "2023-04-19T13:13:25.672Z"
   },
   {
    "duration": 13,
    "start_time": "2023-04-19T13:13:52.816Z"
   },
   {
    "duration": 14,
    "start_time": "2023-04-19T13:15:51.932Z"
   },
   {
    "duration": 23,
    "start_time": "2023-04-19T13:16:36.645Z"
   },
   {
    "duration": 7,
    "start_time": "2023-04-19T13:18:13.383Z"
   },
   {
    "duration": 13,
    "start_time": "2023-04-19T13:18:25.359Z"
   },
   {
    "duration": 21,
    "start_time": "2023-04-19T13:19:25.273Z"
   },
   {
    "duration": 10,
    "start_time": "2023-04-19T13:19:30.017Z"
   },
   {
    "duration": 750,
    "start_time": "2023-04-19T13:19:58.279Z"
   },
   {
    "duration": 20,
    "start_time": "2023-04-19T13:20:13.384Z"
   },
   {
    "duration": 8,
    "start_time": "2023-04-19T13:21:05.414Z"
   },
   {
    "duration": 16,
    "start_time": "2023-04-19T13:21:20.016Z"
   },
   {
    "duration": 9,
    "start_time": "2023-04-19T13:21:36.380Z"
   },
   {
    "duration": 12,
    "start_time": "2023-04-19T13:22:48.418Z"
   },
   {
    "duration": 12,
    "start_time": "2023-04-19T13:23:08.737Z"
   },
   {
    "duration": 11,
    "start_time": "2023-04-19T13:23:18.484Z"
   },
   {
    "duration": 13,
    "start_time": "2023-04-19T13:23:40.950Z"
   },
   {
    "duration": 17,
    "start_time": "2023-04-19T13:35:38.438Z"
   },
   {
    "duration": 6,
    "start_time": "2023-04-19T13:36:53.476Z"
   },
   {
    "duration": 4,
    "start_time": "2023-04-19T13:37:12.648Z"
   },
   {
    "duration": 5,
    "start_time": "2023-04-19T13:37:21.377Z"
   },
   {
    "duration": 10,
    "start_time": "2023-04-19T13:39:06.825Z"
   },
   {
    "duration": 5,
    "start_time": "2023-04-19T13:39:21.971Z"
   },
   {
    "duration": 18,
    "start_time": "2023-04-19T13:40:38.452Z"
   },
   {
    "duration": 4,
    "start_time": "2023-04-19T13:42:18.378Z"
   },
   {
    "duration": 6,
    "start_time": "2023-04-19T13:43:00.934Z"
   },
   {
    "duration": 11,
    "start_time": "2023-04-19T13:43:14.230Z"
   },
   {
    "duration": 11,
    "start_time": "2023-04-19T13:44:05.142Z"
   },
   {
    "duration": 3,
    "start_time": "2023-04-19T13:47:26.646Z"
   },
   {
    "duration": 14,
    "start_time": "2023-04-19T13:47:36.774Z"
   },
   {
    "duration": 4,
    "start_time": "2023-04-19T13:52:23.610Z"
   },
   {
    "duration": 8,
    "start_time": "2023-04-19T13:52:33.032Z"
   },
   {
    "duration": 5,
    "start_time": "2023-04-19T13:52:52.749Z"
   },
   {
    "duration": 17,
    "start_time": "2023-04-19T14:18:16.508Z"
   },
   {
    "duration": 26,
    "start_time": "2023-04-19T14:20:53.904Z"
   },
   {
    "duration": 20,
    "start_time": "2023-04-19T14:21:46.332Z"
   },
   {
    "duration": 856,
    "start_time": "2023-04-19T18:44:55.737Z"
   },
   {
    "duration": 90,
    "start_time": "2023-04-19T18:44:56.595Z"
   },
   {
    "duration": 7,
    "start_time": "2023-04-19T18:44:56.687Z"
   },
   {
    "duration": 8,
    "start_time": "2023-04-19T18:44:56.695Z"
   },
   {
    "duration": 191,
    "start_time": "2023-04-19T18:44:56.705Z"
   },
   {
    "duration": 19,
    "start_time": "2023-04-19T18:44:56.897Z"
   },
   {
    "duration": 18,
    "start_time": "2023-04-19T18:44:56.918Z"
   },
   {
    "duration": 26,
    "start_time": "2023-04-19T18:44:56.943Z"
   },
   {
    "duration": 6,
    "start_time": "2023-04-19T18:44:56.971Z"
   },
   {
    "duration": 3,
    "start_time": "2023-04-19T18:44:56.980Z"
   },
   {
    "duration": 23,
    "start_time": "2023-04-19T18:44:56.985Z"
   },
   {
    "duration": 14,
    "start_time": "2023-04-19T18:44:57.010Z"
   },
   {
    "duration": 45,
    "start_time": "2023-04-19T18:44:57.026Z"
   },
   {
    "duration": 11,
    "start_time": "2023-04-19T18:44:57.076Z"
   },
   {
    "duration": 42,
    "start_time": "2023-04-19T18:44:57.088Z"
   },
   {
    "duration": 36,
    "start_time": "2023-04-19T18:44:57.132Z"
   },
   {
    "duration": 341,
    "start_time": "2023-04-19T18:44:57.170Z"
   },
   {
    "duration": 760,
    "start_time": "2023-04-19T18:44:57.512Z"
   },
   {
    "duration": 186,
    "start_time": "2023-04-19T18:44:58.274Z"
   },
   {
    "duration": 308,
    "start_time": "2023-04-19T18:44:58.462Z"
   },
   {
    "duration": 230,
    "start_time": "2023-04-19T18:44:58.772Z"
   },
   {
    "duration": 312,
    "start_time": "2023-04-19T18:44:59.003Z"
   },
   {
    "duration": 135,
    "start_time": "2023-04-19T18:44:59.316Z"
   },
   {
    "duration": 5,
    "start_time": "2023-04-19T18:44:59.454Z"
   },
   {
    "duration": 152,
    "start_time": "2023-04-19T18:44:59.462Z"
   },
   {
    "duration": 5,
    "start_time": "2023-04-19T18:44:59.616Z"
   },
   {
    "duration": 247,
    "start_time": "2023-04-19T18:44:59.623Z"
   },
   {
    "duration": 168,
    "start_time": "2023-04-19T18:44:59.873Z"
   },
   {
    "duration": 26,
    "start_time": "2023-04-19T18:45:00.044Z"
   },
   {
    "duration": 41,
    "start_time": "2023-04-19T18:45:00.072Z"
   },
   {
    "duration": 12,
    "start_time": "2023-04-19T18:45:00.115Z"
   },
   {
    "duration": 558,
    "start_time": "2023-04-19T18:46:02.517Z"
   },
   {
    "duration": 83,
    "start_time": "2023-04-19T18:46:24.359Z"
   },
   {
    "duration": 18,
    "start_time": "2023-04-19T18:47:02.987Z"
   },
   {
    "duration": 399,
    "start_time": "2023-04-19T18:47:15.125Z"
   },
   {
    "duration": 91,
    "start_time": "2023-04-19T18:48:31.267Z"
   },
   {
    "duration": 7,
    "start_time": "2023-04-19T18:50:22.412Z"
   },
   {
    "duration": 12,
    "start_time": "2023-04-19T18:50:29.657Z"
   },
   {
    "duration": 7,
    "start_time": "2023-04-19T18:50:41.617Z"
   },
   {
    "duration": 8,
    "start_time": "2023-04-19T18:51:36.174Z"
   },
   {
    "duration": 85,
    "start_time": "2023-04-19T18:53:08.701Z"
   },
   {
    "duration": 88,
    "start_time": "2023-04-19T18:53:20.896Z"
   },
   {
    "duration": 8,
    "start_time": "2023-04-19T18:53:30.272Z"
   },
   {
    "duration": 8,
    "start_time": "2023-04-19T18:53:42.808Z"
   },
   {
    "duration": 9,
    "start_time": "2023-04-19T18:55:14.777Z"
   },
   {
    "duration": 17,
    "start_time": "2023-04-19T18:56:54.876Z"
   },
   {
    "duration": 13,
    "start_time": "2023-04-19T18:57:20.289Z"
   },
   {
    "duration": 15,
    "start_time": "2023-04-19T18:57:32.762Z"
   },
   {
    "duration": 12,
    "start_time": "2023-04-19T18:57:40.213Z"
   },
   {
    "duration": 11,
    "start_time": "2023-04-19T18:57:54.261Z"
   },
   {
    "duration": 15,
    "start_time": "2023-04-19T18:58:29.351Z"
   },
   {
    "duration": 1770,
    "start_time": "2023-04-19T19:01:21.889Z"
   },
   {
    "duration": 8,
    "start_time": "2023-04-19T19:01:41.640Z"
   },
   {
    "duration": 14,
    "start_time": "2023-04-19T19:02:55.801Z"
   },
   {
    "duration": 134,
    "start_time": "2023-04-19T19:03:28.998Z"
   },
   {
    "duration": 13,
    "start_time": "2023-04-19T19:03:32.380Z"
   },
   {
    "duration": 21,
    "start_time": "2023-04-19T19:03:42.986Z"
   },
   {
    "duration": 24,
    "start_time": "2023-04-19T19:04:00.053Z"
   },
   {
    "duration": 8,
    "start_time": "2023-04-19T19:05:31.682Z"
   },
   {
    "duration": 13,
    "start_time": "2023-04-19T19:05:35.988Z"
   },
   {
    "duration": 12,
    "start_time": "2023-04-19T19:06:15.791Z"
   },
   {
    "duration": 15,
    "start_time": "2023-04-19T19:06:36.195Z"
   },
   {
    "duration": 12,
    "start_time": "2023-04-19T19:06:43.661Z"
   },
   {
    "duration": 1619,
    "start_time": "2023-04-19T19:07:12.285Z"
   },
   {
    "duration": 16,
    "start_time": "2023-04-19T19:07:35.724Z"
   },
   {
    "duration": 1451,
    "start_time": "2023-04-19T19:07:42.985Z"
   },
   {
    "duration": 11,
    "start_time": "2023-04-19T19:08:14.992Z"
   },
   {
    "duration": 12,
    "start_time": "2023-04-19T19:08:35.607Z"
   },
   {
    "duration": 25,
    "start_time": "2023-04-19T19:10:51.151Z"
   },
   {
    "duration": 12,
    "start_time": "2023-04-19T19:11:10.663Z"
   },
   {
    "duration": 17,
    "start_time": "2023-04-19T19:11:54.361Z"
   },
   {
    "duration": 3,
    "start_time": "2023-04-19T19:13:56.193Z"
   },
   {
    "duration": 6,
    "start_time": "2023-04-19T19:14:02.192Z"
   },
   {
    "duration": 21,
    "start_time": "2023-04-19T19:14:11.124Z"
   },
   {
    "duration": 13,
    "start_time": "2023-04-19T19:14:53.388Z"
   },
   {
    "duration": 6,
    "start_time": "2023-04-19T19:14:57.212Z"
   },
   {
    "duration": 13,
    "start_time": "2023-04-19T19:15:52.413Z"
   },
   {
    "duration": 14,
    "start_time": "2023-04-19T19:17:37.867Z"
   },
   {
    "duration": 105,
    "start_time": "2023-04-19T19:17:56.346Z"
   },
   {
    "duration": 15,
    "start_time": "2023-04-19T19:18:20.358Z"
   },
   {
    "duration": 9,
    "start_time": "2023-04-19T19:18:27.985Z"
   },
   {
    "duration": 5,
    "start_time": "2023-04-19T19:18:48.678Z"
   },
   {
    "duration": 14,
    "start_time": "2023-04-19T19:18:54.886Z"
   },
   {
    "duration": 19,
    "start_time": "2023-04-19T19:19:45.985Z"
   },
   {
    "duration": 15,
    "start_time": "2023-04-19T19:20:52.195Z"
   },
   {
    "duration": 20,
    "start_time": "2023-04-19T19:21:01.724Z"
   },
   {
    "duration": 34,
    "start_time": "2023-04-19T19:21:24.049Z"
   },
   {
    "duration": 3,
    "start_time": "2023-04-19T19:21:35.688Z"
   },
   {
    "duration": 44,
    "start_time": "2023-04-19T19:21:35.693Z"
   },
   {
    "duration": 5,
    "start_time": "2023-04-19T19:21:35.739Z"
   },
   {
    "duration": 22,
    "start_time": "2023-04-19T19:21:35.745Z"
   },
   {
    "duration": 92,
    "start_time": "2023-04-19T19:21:35.770Z"
   },
   {
    "duration": 17,
    "start_time": "2023-04-19T19:21:35.865Z"
   },
   {
    "duration": 22,
    "start_time": "2023-04-19T19:21:35.884Z"
   },
   {
    "duration": 5,
    "start_time": "2023-04-19T19:21:35.908Z"
   },
   {
    "duration": 24,
    "start_time": "2023-04-19T19:21:35.914Z"
   },
   {
    "duration": 34,
    "start_time": "2023-04-19T19:21:35.941Z"
   },
   {
    "duration": 12,
    "start_time": "2023-04-19T19:21:35.977Z"
   },
   {
    "duration": 25,
    "start_time": "2023-04-19T19:21:35.991Z"
   },
   {
    "duration": 26,
    "start_time": "2023-04-19T19:21:36.017Z"
   },
   {
    "duration": 40,
    "start_time": "2023-04-19T19:21:36.047Z"
   },
   {
    "duration": 18,
    "start_time": "2023-04-19T19:21:36.088Z"
   },
   {
    "duration": 29,
    "start_time": "2023-04-19T19:21:36.108Z"
   },
   {
    "duration": 29,
    "start_time": "2023-04-19T19:21:36.138Z"
   },
   {
    "duration": 279,
    "start_time": "2023-04-19T19:21:36.168Z"
   },
   {
    "duration": 174,
    "start_time": "2023-04-19T19:21:36.449Z"
   },
   {
    "duration": 182,
    "start_time": "2023-04-19T19:21:36.624Z"
   },
   {
    "duration": 329,
    "start_time": "2023-04-19T19:21:36.807Z"
   },
   {
    "duration": 203,
    "start_time": "2023-04-19T19:21:37.141Z"
   },
   {
    "duration": 274,
    "start_time": "2023-04-19T19:21:37.345Z"
   },
   {
    "duration": 135,
    "start_time": "2023-04-19T19:21:37.621Z"
   },
   {
    "duration": 4,
    "start_time": "2023-04-19T19:21:37.757Z"
   },
   {
    "duration": 162,
    "start_time": "2023-04-19T19:21:37.764Z"
   },
   {
    "duration": 4,
    "start_time": "2023-04-19T19:21:37.928Z"
   },
   {
    "duration": 260,
    "start_time": "2023-04-19T19:21:37.935Z"
   },
   {
    "duration": 159,
    "start_time": "2023-04-19T19:21:38.197Z"
   },
   {
    "duration": 10,
    "start_time": "2023-04-19T19:21:38.362Z"
   },
   {
    "duration": 33,
    "start_time": "2023-04-19T19:21:38.373Z"
   },
   {
    "duration": 20,
    "start_time": "2023-04-19T19:21:38.407Z"
   },
   {
    "duration": 77,
    "start_time": "2023-04-20T07:31:27.562Z"
   },
   {
    "duration": 910,
    "start_time": "2023-04-20T07:31:31.109Z"
   },
   {
    "duration": 89,
    "start_time": "2023-04-20T07:31:32.021Z"
   },
   {
    "duration": 8,
    "start_time": "2023-04-20T07:31:32.111Z"
   },
   {
    "duration": 56,
    "start_time": "2023-04-20T07:31:34.304Z"
   },
   {
    "duration": 5,
    "start_time": "2023-04-20T07:31:47.240Z"
   },
   {
    "duration": 572,
    "start_time": "2023-04-20T07:33:03.635Z"
   },
   {
    "duration": 11,
    "start_time": "2023-04-20T07:38:18.158Z"
   },
   {
    "duration": 8,
    "start_time": "2023-04-20T07:38:31.091Z"
   },
   {
    "duration": 60,
    "start_time": "2023-04-20T07:38:31.106Z"
   },
   {
    "duration": 8,
    "start_time": "2023-04-20T07:38:31.168Z"
   },
   {
    "duration": 43,
    "start_time": "2023-04-20T07:38:31.178Z"
   },
   {
    "duration": 226,
    "start_time": "2023-04-20T07:38:31.223Z"
   },
   {
    "duration": 22,
    "start_time": "2023-04-20T07:38:31.451Z"
   },
   {
    "duration": 58,
    "start_time": "2023-04-20T07:38:31.474Z"
   },
   {
    "duration": 37,
    "start_time": "2023-04-20T07:38:31.534Z"
   },
   {
    "duration": 10,
    "start_time": "2023-04-20T07:38:31.573Z"
   },
   {
    "duration": 4,
    "start_time": "2023-04-20T07:38:33.013Z"
   },
   {
    "duration": 18,
    "start_time": "2023-04-20T07:38:33.473Z"
   },
   {
    "duration": 24,
    "start_time": "2023-04-20T08:07:15.770Z"
   },
   {
    "duration": 4,
    "start_time": "2023-04-20T08:09:20.831Z"
   },
   {
    "duration": 13,
    "start_time": "2023-04-20T08:09:41.726Z"
   },
   {
    "duration": 16,
    "start_time": "2023-04-20T08:10:57.266Z"
   },
   {
    "duration": 24,
    "start_time": "2023-04-20T08:11:50.506Z"
   },
   {
    "duration": 26,
    "start_time": "2023-04-20T08:12:47.226Z"
   },
   {
    "duration": 5,
    "start_time": "2023-04-20T08:13:54.869Z"
   },
   {
    "duration": 30,
    "start_time": "2023-04-20T08:15:59.723Z"
   },
   {
    "duration": 28,
    "start_time": "2023-04-20T08:16:14.509Z"
   },
   {
    "duration": 3,
    "start_time": "2023-04-20T08:16:23.503Z"
   },
   {
    "duration": 33,
    "start_time": "2023-04-20T08:16:23.508Z"
   },
   {
    "duration": 4,
    "start_time": "2023-04-20T08:16:23.543Z"
   },
   {
    "duration": 10,
    "start_time": "2023-04-20T08:16:23.550Z"
   },
   {
    "duration": 76,
    "start_time": "2023-04-20T08:16:23.561Z"
   },
   {
    "duration": 20,
    "start_time": "2023-04-20T08:16:23.639Z"
   },
   {
    "duration": 12,
    "start_time": "2023-04-20T08:16:23.660Z"
   },
   {
    "duration": 11,
    "start_time": "2023-04-20T08:16:23.674Z"
   },
   {
    "duration": 3,
    "start_time": "2023-04-20T08:16:23.687Z"
   },
   {
    "duration": 24,
    "start_time": "2023-04-20T08:16:23.692Z"
   },
   {
    "duration": 5,
    "start_time": "2023-04-20T08:16:23.717Z"
   },
   {
    "duration": 5,
    "start_time": "2023-04-20T08:16:23.724Z"
   },
   {
    "duration": 4,
    "start_time": "2023-04-20T08:16:25.324Z"
   },
   {
    "duration": 5,
    "start_time": "2023-04-20T08:16:26.137Z"
   },
   {
    "duration": 14,
    "start_time": "2023-04-20T08:17:50.111Z"
   },
   {
    "duration": 13,
    "start_time": "2023-04-20T08:18:08.154Z"
   },
   {
    "duration": 6,
    "start_time": "2023-04-20T08:21:17.722Z"
   },
   {
    "duration": 17,
    "start_time": "2023-04-20T08:25:59.291Z"
   },
   {
    "duration": 10,
    "start_time": "2023-04-20T08:26:10.513Z"
   },
   {
    "duration": 60,
    "start_time": "2023-04-20T08:30:48.049Z"
   },
   {
    "duration": 15,
    "start_time": "2023-04-20T08:31:26.562Z"
   },
   {
    "duration": 4,
    "start_time": "2023-04-20T08:31:30.269Z"
   },
   {
    "duration": 67,
    "start_time": "2023-04-20T08:31:30.275Z"
   },
   {
    "duration": 5,
    "start_time": "2023-04-20T08:31:30.345Z"
   },
   {
    "duration": 31,
    "start_time": "2023-04-20T08:31:30.354Z"
   },
   {
    "duration": 126,
    "start_time": "2023-04-20T08:31:30.388Z"
   },
   {
    "duration": 26,
    "start_time": "2023-04-20T08:31:30.516Z"
   },
   {
    "duration": 36,
    "start_time": "2023-04-20T08:31:30.544Z"
   },
   {
    "duration": 43,
    "start_time": "2023-04-20T08:31:30.582Z"
   },
   {
    "duration": 38,
    "start_time": "2023-04-20T08:31:30.628Z"
   },
   {
    "duration": 63,
    "start_time": "2023-04-20T08:31:30.668Z"
   },
   {
    "duration": 10,
    "start_time": "2023-04-20T08:31:30.734Z"
   },
   {
    "duration": 26,
    "start_time": "2023-04-20T08:31:30.746Z"
   },
   {
    "duration": 67,
    "start_time": "2023-04-20T08:31:30.774Z"
   },
   {
    "duration": 56,
    "start_time": "2023-04-20T08:31:30.843Z"
   },
   {
    "duration": 45,
    "start_time": "2023-04-20T08:31:30.901Z"
   },
   {
    "duration": 388,
    "start_time": "2023-04-20T08:31:30.949Z"
   },
   {
    "duration": 337,
    "start_time": "2023-04-20T08:31:32.579Z"
   },
   {
    "duration": 343,
    "start_time": "2023-04-20T08:31:33.006Z"
   },
   {
    "duration": 254,
    "start_time": "2023-04-20T08:31:58.459Z"
   },
   {
    "duration": 419,
    "start_time": "2023-04-20T08:32:04.155Z"
   },
   {
    "duration": 228,
    "start_time": "2023-04-20T08:32:12.716Z"
   },
   {
    "duration": 289,
    "start_time": "2023-04-20T08:32:19.237Z"
   },
   {
    "duration": 76,
    "start_time": "2023-04-20T08:32:26.174Z"
   },
   {
    "duration": 174,
    "start_time": "2023-04-20T08:32:29.553Z"
   },
   {
    "duration": 203,
    "start_time": "2023-04-20T08:32:41.733Z"
   },
   {
    "duration": 63,
    "start_time": "2023-04-20T08:39:13.084Z"
   },
   {
    "duration": 298,
    "start_time": "2023-04-20T08:47:58.253Z"
   },
   {
    "duration": 202,
    "start_time": "2023-04-20T08:48:25.112Z"
   },
   {
    "duration": 282,
    "start_time": "2023-04-20T08:48:51.720Z"
   },
   {
    "duration": 201,
    "start_time": "2023-04-20T08:53:00.876Z"
   },
   {
    "duration": 204,
    "start_time": "2023-04-20T08:57:46.252Z"
   },
   {
    "duration": 194,
    "start_time": "2023-04-20T08:58:47.814Z"
   },
   {
    "duration": 50,
    "start_time": "2023-04-20T08:59:31.169Z"
   },
   {
    "duration": 48,
    "start_time": "2023-04-20T09:00:42.270Z"
   },
   {
    "duration": 373,
    "start_time": "2023-04-20T09:00:51.765Z"
   },
   {
    "duration": 295,
    "start_time": "2023-04-20T09:02:58.874Z"
   },
   {
    "duration": 222,
    "start_time": "2023-04-20T09:05:43.309Z"
   },
   {
    "duration": 390,
    "start_time": "2023-04-20T09:06:26.988Z"
   },
   {
    "duration": 377,
    "start_time": "2023-04-20T09:06:41.832Z"
   },
   {
    "duration": 540,
    "start_time": "2023-04-20T09:07:47.145Z"
   },
   {
    "duration": 254,
    "start_time": "2023-04-20T09:08:59.281Z"
   },
   {
    "duration": 248,
    "start_time": "2023-04-20T09:09:24.024Z"
   },
   {
    "duration": 163,
    "start_time": "2023-04-20T09:09:50.331Z"
   },
   {
    "duration": 159,
    "start_time": "2023-04-20T09:16:21.684Z"
   },
   {
    "duration": 427,
    "start_time": "2023-04-20T09:16:53.635Z"
   },
   {
    "duration": 274,
    "start_time": "2023-04-20T09:18:40.990Z"
   },
   {
    "duration": 226,
    "start_time": "2023-04-20T09:18:49.938Z"
   },
   {
    "duration": 230,
    "start_time": "2023-04-20T09:19:18.606Z"
   },
   {
    "duration": 270,
    "start_time": "2023-04-20T09:30:36.269Z"
   },
   {
    "duration": 7,
    "start_time": "2023-04-20T09:30:44.650Z"
   },
   {
    "duration": 41,
    "start_time": "2023-04-20T09:35:42.941Z"
   },
   {
    "duration": 268,
    "start_time": "2023-04-20T09:37:18.271Z"
   },
   {
    "duration": 14,
    "start_time": "2023-04-20T09:37:21.485Z"
   },
   {
    "duration": 11,
    "start_time": "2023-04-20T09:37:39.054Z"
   },
   {
    "duration": 4,
    "start_time": "2023-04-20T11:24:38.447Z"
   },
   {
    "duration": 49,
    "start_time": "2023-04-20T11:24:38.453Z"
   },
   {
    "duration": 13,
    "start_time": "2023-04-20T11:24:38.504Z"
   },
   {
    "duration": 13,
    "start_time": "2023-04-20T11:24:38.520Z"
   },
   {
    "duration": 123,
    "start_time": "2023-04-20T11:24:38.536Z"
   },
   {
    "duration": 37,
    "start_time": "2023-04-20T11:24:38.661Z"
   },
   {
    "duration": 10,
    "start_time": "2023-04-20T11:24:38.700Z"
   },
   {
    "duration": 7,
    "start_time": "2023-04-20T11:24:38.712Z"
   },
   {
    "duration": 8,
    "start_time": "2023-04-20T11:24:38.724Z"
   },
   {
    "duration": 147,
    "start_time": "2023-04-20T11:24:38.737Z"
   },
   {
    "duration": 12,
    "start_time": "2023-04-20T11:24:38.897Z"
   },
   {
    "duration": 27,
    "start_time": "2023-04-20T11:24:38.912Z"
   },
   {
    "duration": 29,
    "start_time": "2023-04-20T11:24:38.941Z"
   },
   {
    "duration": 8,
    "start_time": "2023-04-20T11:24:38.974Z"
   },
   {
    "duration": 25,
    "start_time": "2023-04-20T11:24:38.985Z"
   },
   {
    "duration": 418,
    "start_time": "2023-04-20T11:24:39.012Z"
   },
   {
    "duration": 295,
    "start_time": "2023-04-20T11:24:39.433Z"
   },
   {
    "duration": 270,
    "start_time": "2023-04-20T11:24:39.729Z"
   },
   {
    "duration": 440,
    "start_time": "2023-04-20T11:24:40.005Z"
   },
   {
    "duration": 337,
    "start_time": "2023-04-20T11:24:40.447Z"
   },
   {
    "duration": 408,
    "start_time": "2023-04-20T11:24:40.787Z"
   },
   {
    "duration": 237,
    "start_time": "2023-04-20T11:24:41.197Z"
   },
   {
    "duration": 5,
    "start_time": "2023-04-20T11:24:41.436Z"
   },
   {
    "duration": 221,
    "start_time": "2023-04-20T11:24:41.443Z"
   },
   {
    "duration": 6,
    "start_time": "2023-04-20T11:24:41.671Z"
   },
   {
    "duration": 333,
    "start_time": "2023-04-20T11:24:41.679Z"
   },
   {
    "duration": 259,
    "start_time": "2023-04-20T11:24:42.021Z"
   },
   {
    "duration": 23,
    "start_time": "2023-04-20T11:24:42.283Z"
   },
   {
    "duration": 57,
    "start_time": "2023-04-20T11:24:42.311Z"
   },
   {
    "duration": 27,
    "start_time": "2023-04-20T11:24:42.371Z"
   },
   {
    "duration": 67,
    "start_time": "2023-04-20T11:28:46.028Z"
   },
   {
    "duration": 3,
    "start_time": "2023-04-20T11:29:09.438Z"
   },
   {
    "duration": 37,
    "start_time": "2023-04-20T11:29:09.443Z"
   },
   {
    "duration": 13,
    "start_time": "2023-04-20T11:29:09.482Z"
   },
   {
    "duration": 9,
    "start_time": "2023-04-20T11:29:09.497Z"
   },
   {
    "duration": 105,
    "start_time": "2023-04-20T11:29:09.508Z"
   },
   {
    "duration": 51,
    "start_time": "2023-04-20T11:29:09.621Z"
   },
   {
    "duration": 4,
    "start_time": "2023-04-20T11:29:09.674Z"
   },
   {
    "duration": 18,
    "start_time": "2023-04-20T11:29:09.680Z"
   },
   {
    "duration": 4,
    "start_time": "2023-04-20T11:29:09.701Z"
   },
   {
    "duration": 50,
    "start_time": "2023-04-20T11:29:09.710Z"
   },
   {
    "duration": 5,
    "start_time": "2023-04-20T11:29:09.762Z"
   },
   {
    "duration": 7,
    "start_time": "2023-04-20T11:29:09.769Z"
   },
   {
    "duration": 25,
    "start_time": "2023-04-20T11:29:09.778Z"
   },
   {
    "duration": 14,
    "start_time": "2023-04-20T11:29:09.808Z"
   },
   {
    "duration": 13,
    "start_time": "2023-04-20T11:29:09.827Z"
   },
   {
    "duration": 378,
    "start_time": "2023-04-20T11:29:09.842Z"
   },
   {
    "duration": 289,
    "start_time": "2023-04-20T11:29:10.222Z"
   },
   {
    "duration": 269,
    "start_time": "2023-04-20T11:29:10.512Z"
   },
   {
    "duration": 417,
    "start_time": "2023-04-20T11:29:10.783Z"
   },
   {
    "duration": 381,
    "start_time": "2023-04-20T11:29:11.201Z"
   },
   {
    "duration": 426,
    "start_time": "2023-04-20T11:29:11.585Z"
   },
   {
    "duration": 215,
    "start_time": "2023-04-20T11:29:12.013Z"
   },
   {
    "duration": 14,
    "start_time": "2023-04-20T11:29:12.245Z"
   },
   {
    "duration": 188,
    "start_time": "2023-04-20T11:29:12.262Z"
   },
   {
    "duration": 9,
    "start_time": "2023-04-20T11:29:12.454Z"
   },
   {
    "duration": 379,
    "start_time": "2023-04-20T11:29:12.469Z"
   },
   {
    "duration": 179,
    "start_time": "2023-04-20T11:29:12.859Z"
   },
   {
    "duration": 12,
    "start_time": "2023-04-20T11:29:13.040Z"
   },
   {
    "duration": 74,
    "start_time": "2023-04-20T11:29:13.053Z"
   },
   {
    "duration": 22,
    "start_time": "2023-04-20T11:29:13.129Z"
   },
   {
    "duration": 24,
    "start_time": "2023-04-20T11:30:02.042Z"
   },
   {
    "duration": 6,
    "start_time": "2023-04-20T11:30:09.485Z"
   },
   {
    "duration": 48,
    "start_time": "2023-04-20T11:30:09.501Z"
   },
   {
    "duration": 8,
    "start_time": "2023-04-20T11:30:09.552Z"
   },
   {
    "duration": 13,
    "start_time": "2023-04-20T11:30:09.562Z"
   },
   {
    "duration": 129,
    "start_time": "2023-04-20T11:30:09.580Z"
   },
   {
    "duration": 28,
    "start_time": "2023-04-20T11:30:09.716Z"
   },
   {
    "duration": 5,
    "start_time": "2023-04-20T11:30:09.746Z"
   },
   {
    "duration": 17,
    "start_time": "2023-04-20T11:30:09.752Z"
   },
   {
    "duration": 3,
    "start_time": "2023-04-20T11:30:09.771Z"
   },
   {
    "duration": 9,
    "start_time": "2023-04-20T11:30:11.619Z"
   },
   {
    "duration": 42,
    "start_time": "2023-04-20T11:30:12.297Z"
   },
   {
    "duration": 13,
    "start_time": "2023-04-20T11:31:06.497Z"
   },
   {
    "duration": 12,
    "start_time": "2023-04-20T11:31:06.713Z"
   },
   {
    "duration": 38,
    "start_time": "2023-04-20T11:31:07.012Z"
   },
   {
    "duration": 18,
    "start_time": "2023-04-20T11:31:07.986Z"
   },
   {
    "duration": 18,
    "start_time": "2023-04-20T11:31:08.405Z"
   },
   {
    "duration": 465,
    "start_time": "2023-04-20T11:31:10.952Z"
   },
   {
    "duration": 264,
    "start_time": "2023-04-20T11:31:13.633Z"
   },
   {
    "duration": 213,
    "start_time": "2023-04-20T11:47:10.907Z"
   },
   {
    "duration": 73,
    "start_time": "2023-04-20T11:48:30.031Z"
   },
   {
    "duration": 20,
    "start_time": "2023-04-20T11:57:29.167Z"
   },
   {
    "duration": 74,
    "start_time": "2023-04-20T12:02:24.077Z"
   },
   {
    "duration": 35,
    "start_time": "2023-04-20T12:05:56.502Z"
   },
   {
    "duration": 16,
    "start_time": "2023-04-20T12:13:31.927Z"
   },
   {
    "duration": 15,
    "start_time": "2023-04-20T12:14:02.269Z"
   },
   {
    "duration": 815,
    "start_time": "2023-04-20T15:39:30.102Z"
   },
   {
    "duration": 85,
    "start_time": "2023-04-20T15:39:30.919Z"
   },
   {
    "duration": 8,
    "start_time": "2023-04-20T15:39:31.005Z"
   },
   {
    "duration": 55,
    "start_time": "2023-04-20T15:39:31.015Z"
   },
   {
    "duration": 260,
    "start_time": "2023-04-20T15:39:31.071Z"
   },
   {
    "duration": 18,
    "start_time": "2023-04-20T15:39:31.332Z"
   },
   {
    "duration": 78,
    "start_time": "2023-04-20T15:39:31.351Z"
   },
   {
    "duration": 35,
    "start_time": "2023-04-20T15:39:31.431Z"
   },
   {
    "duration": 72,
    "start_time": "2023-04-20T15:39:31.468Z"
   },
   {
    "duration": 88,
    "start_time": "2023-04-20T15:39:31.542Z"
   },
   {
    "duration": 9,
    "start_time": "2023-04-20T15:39:31.632Z"
   },
   {
    "duration": 27,
    "start_time": "2023-04-20T15:39:31.643Z"
   },
   {
    "duration": 54,
    "start_time": "2023-04-20T15:39:31.681Z"
   },
   {
    "duration": 18,
    "start_time": "2023-04-20T15:39:31.739Z"
   },
   {
    "duration": 76,
    "start_time": "2023-04-20T15:39:31.759Z"
   },
   {
    "duration": 360,
    "start_time": "2023-04-20T15:39:31.837Z"
   },
   {
    "duration": 867,
    "start_time": "2023-04-20T15:39:32.198Z"
   },
   {
    "duration": 251,
    "start_time": "2023-04-20T15:39:33.066Z"
   },
   {
    "duration": 291,
    "start_time": "2023-04-20T15:39:33.318Z"
   },
   {
    "duration": 204,
    "start_time": "2023-04-20T15:39:33.615Z"
   },
   {
    "duration": 300,
    "start_time": "2023-04-20T15:39:33.820Z"
   },
   {
    "duration": 140,
    "start_time": "2023-04-20T15:39:34.122Z"
   },
   {
    "duration": 4,
    "start_time": "2023-04-20T15:39:34.263Z"
   },
   {
    "duration": 158,
    "start_time": "2023-04-20T15:39:34.268Z"
   },
   {
    "duration": 3,
    "start_time": "2023-04-20T15:39:34.428Z"
   },
   {
    "duration": 211,
    "start_time": "2023-04-20T15:39:34.433Z"
   },
   {
    "duration": 161,
    "start_time": "2023-04-20T15:39:34.646Z"
   },
   {
    "duration": 11,
    "start_time": "2023-04-20T15:39:34.817Z"
   },
   {
    "duration": 26,
    "start_time": "2023-04-20T15:39:34.830Z"
   },
   {
    "duration": 47,
    "start_time": "2023-04-20T15:39:34.858Z"
   }
  ],
  "kernelspec": {
   "display_name": "Python 3 (ipykernel)",
   "language": "python",
   "name": "python3"
  },
  "language_info": {
   "codemirror_mode": {
    "name": "ipython",
    "version": 3
   },
   "file_extension": ".py",
   "mimetype": "text/x-python",
   "name": "python",
   "nbconvert_exporter": "python",
   "pygments_lexer": "ipython3",
   "version": "3.9.16"
  },
  "toc": {
   "base_numbering": 1,
   "nav_menu": {},
   "number_sections": true,
   "sideBar": true,
   "skip_h1_title": true,
   "title_cell": "Table of Contents",
   "title_sidebar": "Contents",
   "toc_cell": false,
   "toc_position": {},
   "toc_section_display": true,
   "toc_window_display": true
  }
 },
 "nbformat": 4,
 "nbformat_minor": 2
}
